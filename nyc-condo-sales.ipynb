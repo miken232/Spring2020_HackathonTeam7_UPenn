{
 "cells": [
  {
   "cell_type": "code",
   "execution_count": 578,
   "metadata": {
    "_cell_guid": "79c7e3d0-c299-4dcb-8224-4455121ee9b0",
    "_uuid": "d629ff2d2480ee46fbb7e2d37f6b5fab8052498a"
   },
   "outputs": [],
   "source": [
    "import pandas as pd\n",
    "import numpy as np\n",
    "import matplotlib.pyplot as plt\n",
    "%matplotlib inline\n",
    "import seaborn as sns\n",
    "import warnings\n",
    "warnings.filterwarnings('ignore')\n",
    "\n",
    "from sklearn.model_selection import KFold\n",
    "from sklearn.model_selection import train_test_split \n",
    "from sklearn.model_selection import GridSearchCV\n",
    "from sklearn.preprocessing import StandardScaler\n",
    "\n",
    "from sklearn.linear_model import LinearRegression \n",
    "from sklearn.linear_model import Lasso\n",
    "from sklearn.linear_model import Ridge\n",
    "from sklearn.ensemble import RandomForestRegressor\n",
    "from sklearn.linear_model import ElasticNet\n",
    "\n",
    "from sklearn import metrics\n",
    "from sklearn.metrics import mean_squared_error, r2_score\n",
    "from sklearn.model_selection import cross_val_score\n",
    "\n",
    "from scipy import stats\n",
    "from scipy.stats import skew"
   ]
  },
  {
   "cell_type": "code",
   "execution_count": 579,
   "metadata": {
    "_uuid": "23846b1e7e35e56e3c67a779c3be37323e147d77"
   },
   "outputs": [
    {
     "data": {
      "text/html": [
       "<div>\n",
       "<style scoped>\n",
       "    .dataframe tbody tr th:only-of-type {\n",
       "        vertical-align: middle;\n",
       "    }\n",
       "\n",
       "    .dataframe tbody tr th {\n",
       "        vertical-align: top;\n",
       "    }\n",
       "\n",
       "    .dataframe thead th {\n",
       "        text-align: right;\n",
       "    }\n",
       "</style>\n",
       "<table border=\"1\" class=\"dataframe\">\n",
       "  <thead>\n",
       "    <tr style=\"text-align: right;\">\n",
       "      <th></th>\n",
       "      <th>Unnamed: 0</th>\n",
       "      <th>BOROUGH</th>\n",
       "      <th>NEIGHBORHOOD</th>\n",
       "      <th>BUILDING CLASS CATEGORY</th>\n",
       "      <th>TAX CLASS AT PRESENT</th>\n",
       "      <th>BLOCK</th>\n",
       "      <th>LOT</th>\n",
       "      <th>EASE-MENT</th>\n",
       "      <th>BUILDING CLASS AT PRESENT</th>\n",
       "      <th>ADDRESS</th>\n",
       "      <th>...</th>\n",
       "      <th>RESIDENTIAL UNITS</th>\n",
       "      <th>COMMERCIAL UNITS</th>\n",
       "      <th>TOTAL UNITS</th>\n",
       "      <th>LAND SQUARE FEET</th>\n",
       "      <th>GROSS SQUARE FEET</th>\n",
       "      <th>YEAR BUILT</th>\n",
       "      <th>TAX CLASS AT TIME OF SALE</th>\n",
       "      <th>BUILDING CLASS AT TIME OF SALE</th>\n",
       "      <th>SALE PRICE</th>\n",
       "      <th>SALE DATE</th>\n",
       "    </tr>\n",
       "  </thead>\n",
       "  <tbody>\n",
       "    <tr>\n",
       "      <td>0</td>\n",
       "      <td>4</td>\n",
       "      <td>1</td>\n",
       "      <td>ALPHABET CITY</td>\n",
       "      <td>07 RENTALS - WALKUP APARTMENTS</td>\n",
       "      <td>2A</td>\n",
       "      <td>392</td>\n",
       "      <td>6</td>\n",
       "      <td></td>\n",
       "      <td>C2</td>\n",
       "      <td>153 AVENUE B</td>\n",
       "      <td>...</td>\n",
       "      <td>5</td>\n",
       "      <td>0</td>\n",
       "      <td>5</td>\n",
       "      <td>1633</td>\n",
       "      <td>6440</td>\n",
       "      <td>1900</td>\n",
       "      <td>2</td>\n",
       "      <td>C2</td>\n",
       "      <td>6625000</td>\n",
       "      <td>2017-07-19 00:00:00</td>\n",
       "    </tr>\n",
       "    <tr>\n",
       "      <td>1</td>\n",
       "      <td>5</td>\n",
       "      <td>1</td>\n",
       "      <td>ALPHABET CITY</td>\n",
       "      <td>07 RENTALS - WALKUP APARTMENTS</td>\n",
       "      <td>2</td>\n",
       "      <td>399</td>\n",
       "      <td>26</td>\n",
       "      <td></td>\n",
       "      <td>C7</td>\n",
       "      <td>234 EAST 4TH   STREET</td>\n",
       "      <td>...</td>\n",
       "      <td>28</td>\n",
       "      <td>3</td>\n",
       "      <td>31</td>\n",
       "      <td>4616</td>\n",
       "      <td>18690</td>\n",
       "      <td>1900</td>\n",
       "      <td>2</td>\n",
       "      <td>C7</td>\n",
       "      <td>-</td>\n",
       "      <td>2016-12-14 00:00:00</td>\n",
       "    </tr>\n",
       "    <tr>\n",
       "      <td>2</td>\n",
       "      <td>6</td>\n",
       "      <td>1</td>\n",
       "      <td>ALPHABET CITY</td>\n",
       "      <td>07 RENTALS - WALKUP APARTMENTS</td>\n",
       "      <td>2</td>\n",
       "      <td>399</td>\n",
       "      <td>39</td>\n",
       "      <td></td>\n",
       "      <td>C7</td>\n",
       "      <td>197 EAST 3RD   STREET</td>\n",
       "      <td>...</td>\n",
       "      <td>16</td>\n",
       "      <td>1</td>\n",
       "      <td>17</td>\n",
       "      <td>2212</td>\n",
       "      <td>7803</td>\n",
       "      <td>1900</td>\n",
       "      <td>2</td>\n",
       "      <td>C7</td>\n",
       "      <td>-</td>\n",
       "      <td>2016-12-09 00:00:00</td>\n",
       "    </tr>\n",
       "    <tr>\n",
       "      <td>3</td>\n",
       "      <td>7</td>\n",
       "      <td>1</td>\n",
       "      <td>ALPHABET CITY</td>\n",
       "      <td>07 RENTALS - WALKUP APARTMENTS</td>\n",
       "      <td>2B</td>\n",
       "      <td>402</td>\n",
       "      <td>21</td>\n",
       "      <td></td>\n",
       "      <td>C4</td>\n",
       "      <td>154 EAST 7TH STREET</td>\n",
       "      <td>...</td>\n",
       "      <td>10</td>\n",
       "      <td>0</td>\n",
       "      <td>10</td>\n",
       "      <td>2272</td>\n",
       "      <td>6794</td>\n",
       "      <td>1913</td>\n",
       "      <td>2</td>\n",
       "      <td>C4</td>\n",
       "      <td>3936272</td>\n",
       "      <td>2016-09-23 00:00:00</td>\n",
       "    </tr>\n",
       "    <tr>\n",
       "      <td>4</td>\n",
       "      <td>8</td>\n",
       "      <td>1</td>\n",
       "      <td>ALPHABET CITY</td>\n",
       "      <td>07 RENTALS - WALKUP APARTMENTS</td>\n",
       "      <td>2A</td>\n",
       "      <td>404</td>\n",
       "      <td>55</td>\n",
       "      <td></td>\n",
       "      <td>C2</td>\n",
       "      <td>301 EAST 10TH   STREET</td>\n",
       "      <td>...</td>\n",
       "      <td>6</td>\n",
       "      <td>0</td>\n",
       "      <td>6</td>\n",
       "      <td>2369</td>\n",
       "      <td>4615</td>\n",
       "      <td>1900</td>\n",
       "      <td>2</td>\n",
       "      <td>C2</td>\n",
       "      <td>8000000</td>\n",
       "      <td>2016-11-17 00:00:00</td>\n",
       "    </tr>\n",
       "    <tr>\n",
       "      <td>5</td>\n",
       "      <td>9</td>\n",
       "      <td>1</td>\n",
       "      <td>ALPHABET CITY</td>\n",
       "      <td>07 RENTALS - WALKUP APARTMENTS</td>\n",
       "      <td>2</td>\n",
       "      <td>405</td>\n",
       "      <td>16</td>\n",
       "      <td></td>\n",
       "      <td>C4</td>\n",
       "      <td>516 EAST 12TH   STREET</td>\n",
       "      <td>...</td>\n",
       "      <td>20</td>\n",
       "      <td>0</td>\n",
       "      <td>20</td>\n",
       "      <td>2581</td>\n",
       "      <td>9730</td>\n",
       "      <td>1900</td>\n",
       "      <td>2</td>\n",
       "      <td>C4</td>\n",
       "      <td>-</td>\n",
       "      <td>2017-07-20 00:00:00</td>\n",
       "    </tr>\n",
       "    <tr>\n",
       "      <td>6</td>\n",
       "      <td>10</td>\n",
       "      <td>1</td>\n",
       "      <td>ALPHABET CITY</td>\n",
       "      <td>07 RENTALS - WALKUP APARTMENTS</td>\n",
       "      <td>2B</td>\n",
       "      <td>406</td>\n",
       "      <td>32</td>\n",
       "      <td></td>\n",
       "      <td>C4</td>\n",
       "      <td>210 AVENUE B</td>\n",
       "      <td>...</td>\n",
       "      <td>8</td>\n",
       "      <td>0</td>\n",
       "      <td>8</td>\n",
       "      <td>1750</td>\n",
       "      <td>4226</td>\n",
       "      <td>1920</td>\n",
       "      <td>2</td>\n",
       "      <td>C4</td>\n",
       "      <td>3192840</td>\n",
       "      <td>2016-09-23 00:00:00</td>\n",
       "    </tr>\n",
       "    <tr>\n",
       "      <td>7</td>\n",
       "      <td>11</td>\n",
       "      <td>1</td>\n",
       "      <td>ALPHABET CITY</td>\n",
       "      <td>07 RENTALS - WALKUP APARTMENTS</td>\n",
       "      <td>2</td>\n",
       "      <td>407</td>\n",
       "      <td>18</td>\n",
       "      <td></td>\n",
       "      <td>C7</td>\n",
       "      <td>520 EAST 14TH   STREET</td>\n",
       "      <td>...</td>\n",
       "      <td>44</td>\n",
       "      <td>2</td>\n",
       "      <td>46</td>\n",
       "      <td>5163</td>\n",
       "      <td>21007</td>\n",
       "      <td>1900</td>\n",
       "      <td>2</td>\n",
       "      <td>C7</td>\n",
       "      <td>-</td>\n",
       "      <td>2017-07-20 00:00:00</td>\n",
       "    </tr>\n",
       "    <tr>\n",
       "      <td>8</td>\n",
       "      <td>12</td>\n",
       "      <td>1</td>\n",
       "      <td>ALPHABET CITY</td>\n",
       "      <td>08 RENTALS - ELEVATOR APARTMENTS</td>\n",
       "      <td>2</td>\n",
       "      <td>379</td>\n",
       "      <td>34</td>\n",
       "      <td></td>\n",
       "      <td>D5</td>\n",
       "      <td>141 AVENUE D</td>\n",
       "      <td>...</td>\n",
       "      <td>15</td>\n",
       "      <td>0</td>\n",
       "      <td>15</td>\n",
       "      <td>1534</td>\n",
       "      <td>9198</td>\n",
       "      <td>1920</td>\n",
       "      <td>2</td>\n",
       "      <td>D5</td>\n",
       "      <td>-</td>\n",
       "      <td>2017-06-20 00:00:00</td>\n",
       "    </tr>\n",
       "    <tr>\n",
       "      <td>9</td>\n",
       "      <td>13</td>\n",
       "      <td>1</td>\n",
       "      <td>ALPHABET CITY</td>\n",
       "      <td>08 RENTALS - ELEVATOR APARTMENTS</td>\n",
       "      <td>2</td>\n",
       "      <td>387</td>\n",
       "      <td>153</td>\n",
       "      <td></td>\n",
       "      <td>D9</td>\n",
       "      <td>629 EAST 5TH STREET</td>\n",
       "      <td>...</td>\n",
       "      <td>24</td>\n",
       "      <td>0</td>\n",
       "      <td>24</td>\n",
       "      <td>4489</td>\n",
       "      <td>18523</td>\n",
       "      <td>1920</td>\n",
       "      <td>2</td>\n",
       "      <td>D9</td>\n",
       "      <td>16232000</td>\n",
       "      <td>2016-11-07 00:00:00</td>\n",
       "    </tr>\n",
       "  </tbody>\n",
       "</table>\n",
       "<p>10 rows × 22 columns</p>\n",
       "</div>"
      ],
      "text/plain": [
       "   Unnamed: 0  BOROUGH   NEIGHBORHOOD  \\\n",
       "0           4        1  ALPHABET CITY   \n",
       "1           5        1  ALPHABET CITY   \n",
       "2           6        1  ALPHABET CITY   \n",
       "3           7        1  ALPHABET CITY   \n",
       "4           8        1  ALPHABET CITY   \n",
       "5           9        1  ALPHABET CITY   \n",
       "6          10        1  ALPHABET CITY   \n",
       "7          11        1  ALPHABET CITY   \n",
       "8          12        1  ALPHABET CITY   \n",
       "9          13        1  ALPHABET CITY   \n",
       "\n",
       "                       BUILDING CLASS CATEGORY TAX CLASS AT PRESENT  BLOCK  \\\n",
       "0  07 RENTALS - WALKUP APARTMENTS                                2A    392   \n",
       "1  07 RENTALS - WALKUP APARTMENTS                                 2    399   \n",
       "2  07 RENTALS - WALKUP APARTMENTS                                 2    399   \n",
       "3  07 RENTALS - WALKUP APARTMENTS                                2B    402   \n",
       "4  07 RENTALS - WALKUP APARTMENTS                                2A    404   \n",
       "5  07 RENTALS - WALKUP APARTMENTS                                 2    405   \n",
       "6  07 RENTALS - WALKUP APARTMENTS                                2B    406   \n",
       "7  07 RENTALS - WALKUP APARTMENTS                                 2    407   \n",
       "8  08 RENTALS - ELEVATOR APARTMENTS                               2    379   \n",
       "9  08 RENTALS - ELEVATOR APARTMENTS                               2    387   \n",
       "\n",
       "   LOT EASE-MENT BUILDING CLASS AT PRESENT                 ADDRESS  ...  \\\n",
       "0    6                                  C2            153 AVENUE B  ...   \n",
       "1   26                                  C7   234 EAST 4TH   STREET  ...   \n",
       "2   39                                  C7   197 EAST 3RD   STREET  ...   \n",
       "3   21                                  C4     154 EAST 7TH STREET  ...   \n",
       "4   55                                  C2  301 EAST 10TH   STREET  ...   \n",
       "5   16                                  C4  516 EAST 12TH   STREET  ...   \n",
       "6   32                                  C4            210 AVENUE B  ...   \n",
       "7   18                                  C7  520 EAST 14TH   STREET  ...   \n",
       "8   34                                  D5            141 AVENUE D  ...   \n",
       "9  153                                  D9     629 EAST 5TH STREET  ...   \n",
       "\n",
       "  RESIDENTIAL UNITS  COMMERCIAL UNITS  TOTAL UNITS  LAND SQUARE FEET  \\\n",
       "0                 5                 0            5              1633   \n",
       "1                28                 3           31              4616   \n",
       "2                16                 1           17              2212   \n",
       "3                10                 0           10              2272   \n",
       "4                 6                 0            6              2369   \n",
       "5                20                 0           20              2581   \n",
       "6                 8                 0            8              1750   \n",
       "7                44                 2           46              5163   \n",
       "8                15                 0           15              1534   \n",
       "9                24                 0           24              4489   \n",
       "\n",
       "   GROSS SQUARE FEET YEAR BUILT TAX CLASS AT TIME OF SALE  \\\n",
       "0               6440       1900                         2   \n",
       "1              18690       1900                         2   \n",
       "2               7803       1900                         2   \n",
       "3               6794       1913                         2   \n",
       "4               4615       1900                         2   \n",
       "5               9730       1900                         2   \n",
       "6               4226       1920                         2   \n",
       "7              21007       1900                         2   \n",
       "8               9198       1920                         2   \n",
       "9              18523       1920                         2   \n",
       "\n",
       "   BUILDING CLASS AT TIME OF SALE  SALE PRICE            SALE DATE  \n",
       "0                              C2     6625000  2017-07-19 00:00:00  \n",
       "1                              C7         -    2016-12-14 00:00:00  \n",
       "2                              C7         -    2016-12-09 00:00:00  \n",
       "3                              C4     3936272  2016-09-23 00:00:00  \n",
       "4                              C2     8000000  2016-11-17 00:00:00  \n",
       "5                              C4         -    2017-07-20 00:00:00  \n",
       "6                              C4     3192840  2016-09-23 00:00:00  \n",
       "7                              C7         -    2017-07-20 00:00:00  \n",
       "8                              D5         -    2017-06-20 00:00:00  \n",
       "9                              D9    16232000  2016-11-07 00:00:00  \n",
       "\n",
       "[10 rows x 22 columns]"
      ]
     },
     "execution_count": 579,
     "metadata": {},
     "output_type": "execute_result"
    }
   ],
   "source": [
    "df = pd.read_csv('nyc-rolling-sales.csv')\n",
    "df.head(10)"
   ]
  },
  {
   "cell_type": "code",
   "execution_count": 580,
   "metadata": {
    "_uuid": "23846b1e7e35e56e3c67a779c3be37323e147d77"
   },
   "outputs": [],
   "source": [
    "#Dropping useless columns\n",
    "del df['Unnamed: 0']"
   ]
  },
  {
   "cell_type": "code",
   "execution_count": 581,
   "metadata": {
    "_uuid": "23846b1e7e35e56e3c67a779c3be37323e147d77"
   },
   "outputs": [
    {
     "data": {
      "text/html": [
       "<div>\n",
       "<style scoped>\n",
       "    .dataframe tbody tr th:only-of-type {\n",
       "        vertical-align: middle;\n",
       "    }\n",
       "\n",
       "    .dataframe tbody tr th {\n",
       "        vertical-align: top;\n",
       "    }\n",
       "\n",
       "    .dataframe thead th {\n",
       "        text-align: right;\n",
       "    }\n",
       "</style>\n",
       "<table border=\"1\" class=\"dataframe\">\n",
       "  <thead>\n",
       "    <tr style=\"text-align: right;\">\n",
       "      <th></th>\n",
       "      <th>SALE PRICE</th>\n",
       "    </tr>\n",
       "    <tr>\n",
       "      <th>BUILDING CLASS CATEGORY</th>\n",
       "      <th></th>\n",
       "    </tr>\n",
       "  </thead>\n",
       "  <tbody>\n",
       "    <tr>\n",
       "      <td>04 TAX CLASS 1 CONDOS</td>\n",
       "      <td>999000</td>\n",
       "    </tr>\n",
       "    <tr>\n",
       "      <td>11 SPECIAL CONDO BILLING LOTS</td>\n",
       "      <td>600000</td>\n",
       "    </tr>\n",
       "    <tr>\n",
       "      <td>11A CONDO-RENTALS</td>\n",
       "      <td>999000</td>\n",
       "    </tr>\n",
       "    <tr>\n",
       "      <td>12 CONDOS - WALKUP APARTMENTS</td>\n",
       "      <td>999000</td>\n",
       "    </tr>\n",
       "    <tr>\n",
       "      <td>13 CONDOS - ELEVATOR APARTMENTS</td>\n",
       "      <td>999999</td>\n",
       "    </tr>\n",
       "    <tr>\n",
       "      <td>15 CONDOS - 2-10 UNIT RESIDENTIAL</td>\n",
       "      <td>999500</td>\n",
       "    </tr>\n",
       "    <tr>\n",
       "      <td>16 CONDOS - 2-10 UNIT WITH COMMERCIAL UNIT</td>\n",
       "      <td>968500</td>\n",
       "    </tr>\n",
       "    <tr>\n",
       "      <td>17 CONDO COOPS</td>\n",
       "      <td>999900</td>\n",
       "    </tr>\n",
       "    <tr>\n",
       "      <td>28 COMMERCIAL CONDOS</td>\n",
       "      <td>900000</td>\n",
       "    </tr>\n",
       "    <tr>\n",
       "      <td>42 CONDO CULTURAL/MEDICAL/EDUCATIONAL/ETC</td>\n",
       "      <td>93500000</td>\n",
       "    </tr>\n",
       "    <tr>\n",
       "      <td>43 CONDO OFFICE BUILDINGS</td>\n",
       "      <td>994000</td>\n",
       "    </tr>\n",
       "    <tr>\n",
       "      <td>44 CONDO PARKING</td>\n",
       "      <td>99000</td>\n",
       "    </tr>\n",
       "    <tr>\n",
       "      <td>45 CONDO HOTELS</td>\n",
       "      <td>99052</td>\n",
       "    </tr>\n",
       "    <tr>\n",
       "      <td>46 CONDO STORE BUILDINGS</td>\n",
       "      <td>97500000</td>\n",
       "    </tr>\n",
       "    <tr>\n",
       "      <td>47 CONDO NON-BUSINESS STORAGE</td>\n",
       "      <td>91260</td>\n",
       "    </tr>\n",
       "    <tr>\n",
       "      <td>48 CONDO TERRACES/GARDENS/CABANAS</td>\n",
       "      <td>85000</td>\n",
       "    </tr>\n",
       "    <tr>\n",
       "      <td>49 CONDO WAREHOUSES/FACTORY/INDUS</td>\n",
       "      <td>7000</td>\n",
       "    </tr>\n",
       "  </tbody>\n",
       "</table>\n",
       "</div>"
      ],
      "text/plain": [
       "                                             SALE PRICE\n",
       "BUILDING CLASS CATEGORY                                \n",
       "04 TAX CLASS 1 CONDOS                            999000\n",
       "11 SPECIAL CONDO BILLING LOTS                    600000\n",
       "11A CONDO-RENTALS                                999000\n",
       "12 CONDOS - WALKUP APARTMENTS                    999000\n",
       "13 CONDOS - ELEVATOR APARTMENTS                  999999\n",
       "15 CONDOS - 2-10 UNIT RESIDENTIAL                999500\n",
       "16 CONDOS - 2-10 UNIT WITH COMMERCIAL UNIT       968500\n",
       "17 CONDO COOPS                                   999900\n",
       "28 COMMERCIAL CONDOS                             900000\n",
       "42 CONDO CULTURAL/MEDICAL/EDUCATIONAL/ETC      93500000\n",
       "43 CONDO OFFICE BUILDINGS                        994000\n",
       "44 CONDO PARKING                                  99000\n",
       "45 CONDO HOTELS                                   99052\n",
       "46 CONDO STORE BUILDINGS                       97500000\n",
       "47 CONDO NON-BUSINESS STORAGE                     91260\n",
       "48 CONDO TERRACES/GARDENS/CABANAS                 85000\n",
       "49 CONDO WAREHOUSES/FACTORY/INDUS                  7000"
      ]
     },
     "execution_count": 581,
     "metadata": {},
     "output_type": "execute_result"
    }
   ],
   "source": [
    "df = df[df['BUILDING CLASS CATEGORY'].str.contains(\"CONDO\")]\n",
    "df.pivot_table(index='BUILDING CLASS CATEGORY', values='SALE PRICE', aggfunc=np.max)"
   ]
  },
  {
   "cell_type": "code",
   "execution_count": 582,
   "metadata": {
    "_uuid": "23846b1e7e35e56e3c67a779c3be37323e147d77"
   },
   "outputs": [
    {
     "data": {
      "text/html": [
       "<div>\n",
       "<style scoped>\n",
       "    .dataframe tbody tr th:only-of-type {\n",
       "        vertical-align: middle;\n",
       "    }\n",
       "\n",
       "    .dataframe tbody tr th {\n",
       "        vertical-align: top;\n",
       "    }\n",
       "\n",
       "    .dataframe thead th {\n",
       "        text-align: right;\n",
       "    }\n",
       "</style>\n",
       "<table border=\"1\" class=\"dataframe\">\n",
       "  <thead>\n",
       "    <tr style=\"text-align: right;\">\n",
       "      <th></th>\n",
       "      <th>SALE PRICE</th>\n",
       "    </tr>\n",
       "    <tr>\n",
       "      <th>BUILDING CLASS CATEGORY</th>\n",
       "      <th></th>\n",
       "    </tr>\n",
       "  </thead>\n",
       "  <tbody>\n",
       "    <tr>\n",
       "      <td>04 TAX CLASS 1 CONDOS</td>\n",
       "      <td>999000</td>\n",
       "    </tr>\n",
       "    <tr>\n",
       "      <td>12 CONDOS - WALKUP APARTMENTS</td>\n",
       "      <td>999000</td>\n",
       "    </tr>\n",
       "    <tr>\n",
       "      <td>13 CONDOS - ELEVATOR APARTMENTS</td>\n",
       "      <td>999999</td>\n",
       "    </tr>\n",
       "    <tr>\n",
       "      <td>15 CONDOS - 2-10 UNIT RESIDENTIAL</td>\n",
       "      <td>999500</td>\n",
       "    </tr>\n",
       "    <tr>\n",
       "      <td>16 CONDOS - 2-10 UNIT WITH COMMERCIAL UNIT</td>\n",
       "      <td>968500</td>\n",
       "    </tr>\n",
       "    <tr>\n",
       "      <td>17 CONDO COOPS</td>\n",
       "      <td>999900</td>\n",
       "    </tr>\n",
       "  </tbody>\n",
       "</table>\n",
       "</div>"
      ],
      "text/plain": [
       "                                            SALE PRICE\n",
       "BUILDING CLASS CATEGORY                               \n",
       "04 TAX CLASS 1 CONDOS                           999000\n",
       "12 CONDOS - WALKUP APARTMENTS                   999000\n",
       "13 CONDOS - ELEVATOR APARTMENTS                 999999\n",
       "15 CONDOS - 2-10 UNIT RESIDENTIAL               999500\n",
       "16 CONDOS - 2-10 UNIT WITH COMMERCIAL UNIT      968500\n",
       "17 CONDO COOPS                                  999900"
      ]
     },
     "execution_count": 582,
     "metadata": {},
     "output_type": "execute_result"
    }
   ],
   "source": [
    "df = df[~df['BUILDING CLASS CATEGORY'].str.contains(\"11\")]\n",
    "df = df[~df['BUILDING CLASS CATEGORY'].str.contains(\"28\")]\n",
    "df = df[~df['BUILDING CLASS CATEGORY'].str.contains(\"42\")]\n",
    "df = df[~df['BUILDING CLASS CATEGORY'].str.contains(\"43\")]\n",
    "df = df[~df['BUILDING CLASS CATEGORY'].str.contains(\"44\")]\n",
    "df = df[~df['BUILDING CLASS CATEGORY'].str.contains(\"45\")]\n",
    "df = df[~df['BUILDING CLASS CATEGORY'].str.contains(\"46\")]\n",
    "df = df[~df['BUILDING CLASS CATEGORY'].str.contains(\"47\")]\n",
    "df = df[~df['BUILDING CLASS CATEGORY'].str.contains(\"48\")]\n",
    "df = df[~df['BUILDING CLASS CATEGORY'].str.contains(\"49\")]\n",
    "df.pivot_table(index='BUILDING CLASS CATEGORY', values='SALE PRICE', aggfunc=np.max)"
   ]
  },
  {
   "cell_type": "code",
   "execution_count": 583,
   "metadata": {
    "_uuid": "46f6f0b19445bd1133a7b54278014b581d4fdca1"
   },
   "outputs": [
    {
     "data": {
      "text/plain": [
       "129"
      ]
     },
     "execution_count": 583,
     "metadata": {},
     "output_type": "execute_result"
    }
   ],
   "source": [
    "#Check duplicates\n",
    "sum(df.duplicated(df.columns))"
   ]
  },
  {
   "cell_type": "code",
   "execution_count": 584,
   "metadata": {
    "_uuid": "46f6f0b19445bd1133a7b54278014b581d4fdca1"
   },
   "outputs": [],
   "source": [
    "#Remove duplicates\n",
    "df = df.drop_duplicates(df.columns, keep='first')"
   ]
  },
  {
   "cell_type": "code",
   "execution_count": 585,
   "metadata": {
    "_uuid": "7779daf5f3a000a62c8fb42d303f8e19ad018670"
   },
   "outputs": [
    {
     "name": "stdout",
     "output_type": "stream",
     "text": [
      "<class 'pandas.core.frame.DataFrame'>\n",
      "Int64Index: 18020 entries, 76 to 84388\n",
      "Data columns (total 21 columns):\n",
      "BOROUGH                           18020 non-null int64\n",
      "NEIGHBORHOOD                      18020 non-null object\n",
      "BUILDING CLASS CATEGORY           18020 non-null object\n",
      "TAX CLASS AT PRESENT              18020 non-null object\n",
      "BLOCK                             18020 non-null int64\n",
      "LOT                               18020 non-null int64\n",
      "EASE-MENT                         18020 non-null object\n",
      "BUILDING CLASS AT PRESENT         18020 non-null object\n",
      "ADDRESS                           18020 non-null object\n",
      "APARTMENT NUMBER                  18020 non-null object\n",
      "ZIP CODE                          18020 non-null int64\n",
      "RESIDENTIAL UNITS                 18020 non-null int64\n",
      "COMMERCIAL UNITS                  18020 non-null int64\n",
      "TOTAL UNITS                       18020 non-null int64\n",
      "LAND SQUARE FEET                  18020 non-null object\n",
      "GROSS SQUARE FEET                 18020 non-null object\n",
      "YEAR BUILT                        18020 non-null int64\n",
      "TAX CLASS AT TIME OF SALE         18020 non-null int64\n",
      "BUILDING CLASS AT TIME OF SALE    18020 non-null object\n",
      "SALE PRICE                        18020 non-null object\n",
      "SALE DATE                         18020 non-null object\n",
      "dtypes: int64(9), object(12)\n",
      "memory usage: 3.0+ MB\n"
     ]
    }
   ],
   "source": [
    "#info\n",
    "df.info()"
   ]
  },
  {
   "cell_type": "code",
   "execution_count": 586,
   "metadata": {
    "_uuid": "414e75d7633ec19f8143e4ea62af8eb1b2ac7db7"
   },
   "outputs": [],
   "source": [
    "#Clean\n",
    "df['LAND SQUARE FEET'] = pd.to_numeric(df['LAND SQUARE FEET'], errors='coerce')\n",
    "df['GROSS SQUARE FEET']= pd.to_numeric(df['GROSS SQUARE FEET'], errors='coerce')\n",
    "#df['SALE DATE'] = pd.to_datetime(df['SALE DATE'], errors='coerce')\n",
    "df['SALE PRICE'] = pd.to_numeric(df['SALE PRICE'], errors='coerce')\n",
    "df['BOROUGH'] = df['BOROUGH'].astype('category')\n",
    "df['ZIP CODE'] = df['ZIP CODE'].astype('category')\n",
    "df['TAX CLASS AT TIME OF SALE'] = df['TAX CLASS AT TIME OF SALE'].astype('category')"
   ]
  },
  {
   "cell_type": "code",
   "execution_count": 587,
   "metadata": {
    "_uuid": "c4193eedb120741d5bd7d0771f5f45be8dc93ab9"
   },
   "outputs": [
    {
     "data": {
      "text/plain": [
       "Index(['LAND SQUARE FEET', 'GROSS SQUARE FEET', 'SALE PRICE'], dtype='object')"
      ]
     },
     "execution_count": 587,
     "metadata": {},
     "output_type": "execute_result"
    }
   ],
   "source": [
    "#check missing values\n",
    "df.columns[df.isnull().any()]"
   ]
  },
  {
   "cell_type": "code",
   "execution_count": 588,
   "metadata": {
    "_uuid": "1fa92d4699ef398d2fe39722fed576a80f507b03"
   },
   "outputs": [
    {
     "data": {
      "text/plain": [
       "SALE PRICE           0.139900\n",
       "GROSS SQUARE FEET    0.695671\n",
       "LAND SQUARE FEET     0.695727\n",
       "dtype: float64"
      ]
     },
     "execution_count": 588,
     "metadata": {},
     "output_type": "execute_result"
    }
   ],
   "source": [
    "miss=df.isnull().sum()/len(df)\n",
    "miss=miss[miss>0]\n",
    "miss.sort_values(inplace=True)\n",
    "miss"
   ]
  },
  {
   "cell_type": "code",
   "execution_count": 589,
   "metadata": {
    "_uuid": "17ff7d95ed2e7c0db85370c093bb61efa8a80658"
   },
   "outputs": [],
   "source": [
    "del df['GROSS SQUARE FEET']\n",
    "del df['LAND SQUARE FEET']"
   ]
  },
  {
   "cell_type": "code",
   "execution_count": 590,
   "metadata": {
    "_uuid": "286744ff7482eeee78433c25de81ae2470a52b90"
   },
   "outputs": [],
   "source": [
    "# Splitting dataset \n",
    "test=df[df['SALE PRICE'].isna()]\n",
    "data=df[~df['SALE PRICE'].isna()]"
   ]
  },
  {
   "cell_type": "code",
   "execution_count": 591,
   "metadata": {
    "_uuid": "beefd8fc863ad15d3f41d560babcb55a22d70567"
   },
   "outputs": [],
   "source": [
    "test = test.drop(columns='SALE PRICE')"
   ]
  },
  {
   "cell_type": "code",
   "execution_count": 592,
   "metadata": {
    "_uuid": "00eb47939f05dbeb788dfd89ad575e64f7c987fa"
   },
   "outputs": [
    {
     "name": "stdout",
     "output_type": "stream",
     "text": [
      "(2521, 18)\n"
     ]
    },
    {
     "data": {
      "text/html": [
       "<div>\n",
       "<style scoped>\n",
       "    .dataframe tbody tr th:only-of-type {\n",
       "        vertical-align: middle;\n",
       "    }\n",
       "\n",
       "    .dataframe tbody tr th {\n",
       "        vertical-align: top;\n",
       "    }\n",
       "\n",
       "    .dataframe thead th {\n",
       "        text-align: right;\n",
       "    }\n",
       "</style>\n",
       "<table border=\"1\" class=\"dataframe\">\n",
       "  <thead>\n",
       "    <tr style=\"text-align: right;\">\n",
       "      <th></th>\n",
       "      <th>BOROUGH</th>\n",
       "      <th>NEIGHBORHOOD</th>\n",
       "      <th>BUILDING CLASS CATEGORY</th>\n",
       "      <th>TAX CLASS AT PRESENT</th>\n",
       "      <th>BLOCK</th>\n",
       "      <th>LOT</th>\n",
       "      <th>EASE-MENT</th>\n",
       "      <th>BUILDING CLASS AT PRESENT</th>\n",
       "      <th>ADDRESS</th>\n",
       "      <th>APARTMENT NUMBER</th>\n",
       "      <th>ZIP CODE</th>\n",
       "      <th>RESIDENTIAL UNITS</th>\n",
       "      <th>COMMERCIAL UNITS</th>\n",
       "      <th>TOTAL UNITS</th>\n",
       "      <th>YEAR BUILT</th>\n",
       "      <th>TAX CLASS AT TIME OF SALE</th>\n",
       "      <th>BUILDING CLASS AT TIME OF SALE</th>\n",
       "      <th>SALE DATE</th>\n",
       "    </tr>\n",
       "  </thead>\n",
       "  <tbody>\n",
       "    <tr>\n",
       "      <td>77</td>\n",
       "      <td>1</td>\n",
       "      <td>ALPHABET CITY</td>\n",
       "      <td>12 CONDOS - WALKUP APARTMENTS</td>\n",
       "      <td>2</td>\n",
       "      <td>398</td>\n",
       "      <td>1039</td>\n",
       "      <td></td>\n",
       "      <td>R2</td>\n",
       "      <td>182 EAST 2ND   STREET</td>\n",
       "      <td>6E</td>\n",
       "      <td>10009</td>\n",
       "      <td>1</td>\n",
       "      <td>0</td>\n",
       "      <td>1</td>\n",
       "      <td>0</td>\n",
       "      <td>2</td>\n",
       "      <td>R2</td>\n",
       "      <td>2017-02-24 00:00:00</td>\n",
       "    </tr>\n",
       "    <tr>\n",
       "      <td>78</td>\n",
       "      <td>1</td>\n",
       "      <td>ALPHABET CITY</td>\n",
       "      <td>12 CONDOS - WALKUP APARTMENTS</td>\n",
       "      <td>2</td>\n",
       "      <td>405</td>\n",
       "      <td>1211</td>\n",
       "      <td></td>\n",
       "      <td>R2</td>\n",
       "      <td>511 EAST 11TH STREET</td>\n",
       "      <td>C3</td>\n",
       "      <td>10009</td>\n",
       "      <td>1</td>\n",
       "      <td>0</td>\n",
       "      <td>1</td>\n",
       "      <td>0</td>\n",
       "      <td>2</td>\n",
       "      <td>R2</td>\n",
       "      <td>2017-07-20 00:00:00</td>\n",
       "    </tr>\n",
       "    <tr>\n",
       "      <td>82</td>\n",
       "      <td>1</td>\n",
       "      <td>ALPHABET CITY</td>\n",
       "      <td>13 CONDOS - ELEVATOR APARTMENTS</td>\n",
       "      <td>2</td>\n",
       "      <td>373</td>\n",
       "      <td>1006</td>\n",
       "      <td></td>\n",
       "      <td>R4</td>\n",
       "      <td>324 EAST 4TH   STREET</td>\n",
       "      <td>4B</td>\n",
       "      <td>10009</td>\n",
       "      <td>1</td>\n",
       "      <td>0</td>\n",
       "      <td>1</td>\n",
       "      <td>1920</td>\n",
       "      <td>2</td>\n",
       "      <td>R4</td>\n",
       "      <td>2016-11-03 00:00:00</td>\n",
       "    </tr>\n",
       "    <tr>\n",
       "      <td>83</td>\n",
       "      <td>1</td>\n",
       "      <td>ALPHABET CITY</td>\n",
       "      <td>13 CONDOS - ELEVATOR APARTMENTS</td>\n",
       "      <td>2</td>\n",
       "      <td>373</td>\n",
       "      <td>1007</td>\n",
       "      <td></td>\n",
       "      <td>R4</td>\n",
       "      <td>324 EAST 4TH   STREET</td>\n",
       "      <td>5A</td>\n",
       "      <td>10009</td>\n",
       "      <td>1</td>\n",
       "      <td>0</td>\n",
       "      <td>1</td>\n",
       "      <td>1920</td>\n",
       "      <td>2</td>\n",
       "      <td>R4</td>\n",
       "      <td>2016-11-03 00:00:00</td>\n",
       "    </tr>\n",
       "    <tr>\n",
       "      <td>84</td>\n",
       "      <td>1</td>\n",
       "      <td>ALPHABET CITY</td>\n",
       "      <td>13 CONDOS - ELEVATOR APARTMENTS</td>\n",
       "      <td>2</td>\n",
       "      <td>373</td>\n",
       "      <td>1008</td>\n",
       "      <td></td>\n",
       "      <td>R4</td>\n",
       "      <td>324 EAST 4TH   STREET</td>\n",
       "      <td>5B</td>\n",
       "      <td>10009</td>\n",
       "      <td>1</td>\n",
       "      <td>0</td>\n",
       "      <td>1</td>\n",
       "      <td>1920</td>\n",
       "      <td>2</td>\n",
       "      <td>R4</td>\n",
       "      <td>2016-11-03 00:00:00</td>\n",
       "    </tr>\n",
       "  </tbody>\n",
       "</table>\n",
       "</div>"
      ],
      "text/plain": [
       "   BOROUGH   NEIGHBORHOOD                      BUILDING CLASS CATEGORY  \\\n",
       "77       1  ALPHABET CITY  12 CONDOS - WALKUP APARTMENTS                 \n",
       "78       1  ALPHABET CITY  12 CONDOS - WALKUP APARTMENTS                 \n",
       "82       1  ALPHABET CITY  13 CONDOS - ELEVATOR APARTMENTS               \n",
       "83       1  ALPHABET CITY  13 CONDOS - ELEVATOR APARTMENTS               \n",
       "84       1  ALPHABET CITY  13 CONDOS - ELEVATOR APARTMENTS               \n",
       "\n",
       "   TAX CLASS AT PRESENT  BLOCK   LOT EASE-MENT BUILDING CLASS AT PRESENT  \\\n",
       "77                    2    398  1039                                  R2   \n",
       "78                    2    405  1211                                  R2   \n",
       "82                    2    373  1006                                  R4   \n",
       "83                    2    373  1007                                  R4   \n",
       "84                    2    373  1008                                  R4   \n",
       "\n",
       "                  ADDRESS APARTMENT NUMBER ZIP CODE  RESIDENTIAL UNITS  \\\n",
       "77  182 EAST 2ND   STREET               6E    10009                  1   \n",
       "78   511 EAST 11TH STREET               C3    10009                  1   \n",
       "82  324 EAST 4TH   STREET               4B    10009                  1   \n",
       "83  324 EAST 4TH   STREET               5A    10009                  1   \n",
       "84  324 EAST 4TH   STREET               5B    10009                  1   \n",
       "\n",
       "    COMMERCIAL UNITS  TOTAL UNITS  YEAR BUILT TAX CLASS AT TIME OF SALE  \\\n",
       "77                 0            1           0                         2   \n",
       "78                 0            1           0                         2   \n",
       "82                 0            1        1920                         2   \n",
       "83                 0            1        1920                         2   \n",
       "84                 0            1        1920                         2   \n",
       "\n",
       "   BUILDING CLASS AT TIME OF SALE            SALE DATE  \n",
       "77                             R2  2017-02-24 00:00:00  \n",
       "78                             R2  2017-07-20 00:00:00  \n",
       "82                             R4  2016-11-03 00:00:00  \n",
       "83                             R4  2016-11-03 00:00:00  \n",
       "84                             R4  2016-11-03 00:00:00  "
      ]
     },
     "execution_count": 592,
     "metadata": {},
     "output_type": "execute_result"
    }
   ],
   "source": [
    "# Print first 5 rows of test\n",
    "print(test.shape)\n",
    "test.head()"
   ]
  },
  {
   "cell_type": "code",
   "execution_count": 593,
   "metadata": {
    "_uuid": "60d709238ea06ee441c12034d11048f54922c1c9"
   },
   "outputs": [
    {
     "data": {
      "text/plain": [
       "<matplotlib.axes._subplots.AxesSubplot at 0x15ae32cfac8>"
      ]
     },
     "execution_count": 593,
     "metadata": {},
     "output_type": "execute_result"
    },
    {
     "data": {
      "image/png": "[encoded data removed]",
      "text/plain": [
       "<Figure size 432x288 with 2 Axes>"
      ]
     },
     "metadata": {
      "needs_background": "light"
     },
     "output_type": "display_data"
    }
   ],
   "source": [
    "#correlation between the features\n",
    "corr = data.corr()\n",
    "sns.heatmap(corr)"
   ]
  },
  {
   "cell_type": "code",
   "execution_count": 594,
   "metadata": {
    "_uuid": "774d8460cef5233eb007fac0a6a2f29c7f4e53fb"
   },
   "outputs": [
    {
     "data": {
      "text/plain": [
       "SALE PRICE           1.000000\n",
       "YEAR BUILT           0.055752\n",
       "TOTAL UNITS          0.038432\n",
       "RESIDENTIAL UNITS    0.036856\n",
       "COMMERCIAL UNITS     0.014820\n",
       "LOT                 -0.014309\n",
       "BLOCK               -0.234846\n",
       "Name: SALE PRICE, dtype: float64"
      ]
     },
     "execution_count": 594,
     "metadata": {},
     "output_type": "execute_result"
    }
   ],
   "source": [
    "#numeric correlation\n",
    "corr['SALE PRICE'].sort_values(ascending=False)"
   ]
  },
  {
   "cell_type": "code",
   "execution_count": 595,
   "metadata": {
    "_uuid": "57ab241ae7499d7718d7873ade1238dcf71756f9"
   },
   "outputs": [
    {
     "data": {
      "text/html": [
       "<div>\n",
       "<style scoped>\n",
       "    .dataframe tbody tr th:only-of-type {\n",
       "        vertical-align: middle;\n",
       "    }\n",
       "\n",
       "    .dataframe tbody tr th {\n",
       "        vertical-align: top;\n",
       "    }\n",
       "\n",
       "    .dataframe thead th {\n",
       "        text-align: right;\n",
       "    }\n",
       "</style>\n",
       "<table border=\"1\" class=\"dataframe\">\n",
       "  <thead>\n",
       "    <tr style=\"text-align: right;\">\n",
       "      <th></th>\n",
       "      <th>BLOCK</th>\n",
       "      <th>LOT</th>\n",
       "      <th>RESIDENTIAL UNITS</th>\n",
       "      <th>COMMERCIAL UNITS</th>\n",
       "      <th>TOTAL UNITS</th>\n",
       "      <th>YEAR BUILT</th>\n",
       "      <th>SALE PRICE</th>\n",
       "    </tr>\n",
       "  </thead>\n",
       "  <tbody>\n",
       "    <tr>\n",
       "      <td>count</td>\n",
       "      <td>15499.000000</td>\n",
       "      <td>15499.000000</td>\n",
       "      <td>15499.000000</td>\n",
       "      <td>15499.000000</td>\n",
       "      <td>15499.000000</td>\n",
       "      <td>15499.000000</td>\n",
       "      <td>1.549900e+04</td>\n",
       "    </tr>\n",
       "    <tr>\n",
       "      <td>mean</td>\n",
       "      <td>2367.487902</td>\n",
       "      <td>1341.176592</td>\n",
       "      <td>0.893542</td>\n",
       "      <td>0.005033</td>\n",
       "      <td>0.898574</td>\n",
       "      <td>1521.269888</td>\n",
       "      <td>1.646294e+06</td>\n",
       "    </tr>\n",
       "    <tr>\n",
       "      <td>std</td>\n",
       "      <td>2445.769479</td>\n",
       "      <td>656.019516</td>\n",
       "      <td>0.732183</td>\n",
       "      <td>0.070764</td>\n",
       "      <td>0.729455</td>\n",
       "      <td>837.880970</td>\n",
       "      <td>3.146212e+06</td>\n",
       "    </tr>\n",
       "    <tr>\n",
       "      <td>min</td>\n",
       "      <td>1.000000</td>\n",
       "      <td>117.000000</td>\n",
       "      <td>0.000000</td>\n",
       "      <td>0.000000</td>\n",
       "      <td>0.000000</td>\n",
       "      <td>0.000000</td>\n",
       "      <td>0.000000e+00</td>\n",
       "    </tr>\n",
       "    <tr>\n",
       "      <td>25%</td>\n",
       "      <td>839.000000</td>\n",
       "      <td>1033.000000</td>\n",
       "      <td>1.000000</td>\n",
       "      <td>0.000000</td>\n",
       "      <td>1.000000</td>\n",
       "      <td>1900.000000</td>\n",
       "      <td>4.866100e+05</td>\n",
       "    </tr>\n",
       "    <tr>\n",
       "      <td>50%</td>\n",
       "      <td>1438.000000</td>\n",
       "      <td>1135.000000</td>\n",
       "      <td>1.000000</td>\n",
       "      <td>0.000000</td>\n",
       "      <td>1.000000</td>\n",
       "      <td>1982.000000</td>\n",
       "      <td>8.650000e+05</td>\n",
       "    </tr>\n",
       "    <tr>\n",
       "      <td>75%</td>\n",
       "      <td>3072.000000</td>\n",
       "      <td>1338.000000</td>\n",
       "      <td>1.000000</td>\n",
       "      <td>0.000000</td>\n",
       "      <td>1.000000</td>\n",
       "      <td>2008.000000</td>\n",
       "      <td>1.648519e+06</td>\n",
       "    </tr>\n",
       "    <tr>\n",
       "      <td>max</td>\n",
       "      <td>16238.000000</td>\n",
       "      <td>9106.000000</td>\n",
       "      <td>72.000000</td>\n",
       "      <td>1.000000</td>\n",
       "      <td>72.000000</td>\n",
       "      <td>2016.000000</td>\n",
       "      <td>9.852570e+07</td>\n",
       "    </tr>\n",
       "  </tbody>\n",
       "</table>\n",
       "</div>"
      ],
      "text/plain": [
       "              BLOCK           LOT  RESIDENTIAL UNITS  COMMERCIAL UNITS  \\\n",
       "count  15499.000000  15499.000000       15499.000000      15499.000000   \n",
       "mean    2367.487902   1341.176592           0.893542          0.005033   \n",
       "std     2445.769479    656.019516           0.732183          0.070764   \n",
       "min        1.000000    117.000000           0.000000          0.000000   \n",
       "25%      839.000000   1033.000000           1.000000          0.000000   \n",
       "50%     1438.000000   1135.000000           1.000000          0.000000   \n",
       "75%     3072.000000   1338.000000           1.000000          0.000000   \n",
       "max    16238.000000   9106.000000          72.000000          1.000000   \n",
       "\n",
       "        TOTAL UNITS    YEAR BUILT    SALE PRICE  \n",
       "count  15499.000000  15499.000000  1.549900e+04  \n",
       "mean       0.898574   1521.269888  1.646294e+06  \n",
       "std        0.729455    837.880970  3.146212e+06  \n",
       "min        0.000000      0.000000  0.000000e+00  \n",
       "25%        1.000000   1900.000000  4.866100e+05  \n",
       "50%        1.000000   1982.000000  8.650000e+05  \n",
       "75%        1.000000   2008.000000  1.648519e+06  \n",
       "max       72.000000   2016.000000  9.852570e+07  "
      ]
     },
     "execution_count": 595,
     "metadata": {},
     "output_type": "execute_result"
    }
   ],
   "source": [
    "numeric_data=data.select_dtypes(include=[np.number])\n",
    "numeric_data.describe()"
   ]
  },
  {
   "cell_type": "code",
   "execution_count": 596,
   "metadata": {
    "_uuid": "57ab241ae7499d7718d7873ade1238dcf71756f9"
   },
   "outputs": [
    {
     "data": {
      "text/html": [
       "<div>\n",
       "<style scoped>\n",
       "    .dataframe tbody tr th:only-of-type {\n",
       "        vertical-align: middle;\n",
       "    }\n",
       "\n",
       "    .dataframe tbody tr th {\n",
       "        vertical-align: top;\n",
       "    }\n",
       "\n",
       "    .dataframe thead th {\n",
       "        text-align: right;\n",
       "    }\n",
       "</style>\n",
       "<table border=\"1\" class=\"dataframe\">\n",
       "  <thead>\n",
       "    <tr style=\"text-align: right;\">\n",
       "      <th></th>\n",
       "      <th>RESIDENTIAL UNITS</th>\n",
       "      <th>COMMERCIAL UNITS</th>\n",
       "      <th>TOTAL UNITS</th>\n",
       "      <th>YEAR BUILT</th>\n",
       "      <th>SALE PRICE</th>\n",
       "    </tr>\n",
       "  </thead>\n",
       "  <tbody>\n",
       "    <tr>\n",
       "      <td>count</td>\n",
       "      <td>13737.000000</td>\n",
       "      <td>13737.0</td>\n",
       "      <td>13737.000000</td>\n",
       "      <td>13737.000000</td>\n",
       "      <td>1.373700e+04</td>\n",
       "    </tr>\n",
       "    <tr>\n",
       "      <td>mean</td>\n",
       "      <td>1.008153</td>\n",
       "      <td>0.0</td>\n",
       "      <td>1.008153</td>\n",
       "      <td>1946.374973</td>\n",
       "      <td>1.675664e+06</td>\n",
       "    </tr>\n",
       "    <tr>\n",
       "      <td>std</td>\n",
       "      <td>0.699503</td>\n",
       "      <td>0.0</td>\n",
       "      <td>0.699503</td>\n",
       "      <td>81.714016</td>\n",
       "      <td>3.253942e+06</td>\n",
       "    </tr>\n",
       "    <tr>\n",
       "      <td>min</td>\n",
       "      <td>1.000000</td>\n",
       "      <td>0.0</td>\n",
       "      <td>1.000000</td>\n",
       "      <td>1800.000000</td>\n",
       "      <td>0.000000e+00</td>\n",
       "    </tr>\n",
       "    <tr>\n",
       "      <td>25%</td>\n",
       "      <td>1.000000</td>\n",
       "      <td>0.0</td>\n",
       "      <td>1.000000</td>\n",
       "      <td>1910.000000</td>\n",
       "      <td>4.800000e+05</td>\n",
       "    </tr>\n",
       "    <tr>\n",
       "      <td>50%</td>\n",
       "      <td>1.000000</td>\n",
       "      <td>0.0</td>\n",
       "      <td>1.000000</td>\n",
       "      <td>1987.000000</td>\n",
       "      <td>8.750000e+05</td>\n",
       "    </tr>\n",
       "    <tr>\n",
       "      <td>75%</td>\n",
       "      <td>1.000000</td>\n",
       "      <td>0.0</td>\n",
       "      <td>1.000000</td>\n",
       "      <td>2008.000000</td>\n",
       "      <td>1.675000e+06</td>\n",
       "    </tr>\n",
       "    <tr>\n",
       "      <td>max</td>\n",
       "      <td>72.000000</td>\n",
       "      <td>0.0</td>\n",
       "      <td>72.000000</td>\n",
       "      <td>2016.000000</td>\n",
       "      <td>9.852570e+07</td>\n",
       "    </tr>\n",
       "  </tbody>\n",
       "</table>\n",
       "</div>"
      ],
      "text/plain": [
       "       RESIDENTIAL UNITS  COMMERCIAL UNITS   TOTAL UNITS    YEAR BUILT  \\\n",
       "count       13737.000000           13737.0  13737.000000  13737.000000   \n",
       "mean            1.008153               0.0      1.008153   1946.374973   \n",
       "std             0.699503               0.0      0.699503     81.714016   \n",
       "min             1.000000               0.0      1.000000   1800.000000   \n",
       "25%             1.000000               0.0      1.000000   1910.000000   \n",
       "50%             1.000000               0.0      1.000000   1987.000000   \n",
       "75%             1.000000               0.0      1.000000   2008.000000   \n",
       "max            72.000000               0.0     72.000000   2016.000000   \n",
       "\n",
       "         SALE PRICE  \n",
       "count  1.373700e+04  \n",
       "mean   1.675664e+06  \n",
       "std    3.253942e+06  \n",
       "min    0.000000e+00  \n",
       "25%    4.800000e+05  \n",
       "50%    8.750000e+05  \n",
       "75%    1.675000e+06  \n",
       "max    9.852570e+07  "
      ]
     },
     "execution_count": 596,
     "metadata": {},
     "output_type": "execute_result"
    }
   ],
   "source": [
    "data=data[data['TOTAL UNITS']>0]\n",
    "data=data[data['RESIDENTIAL UNITS']>0]\n",
    "data['YEAR BUILT'][data['YEAR BUILT']==0]=1800\n",
    "#data['YEAR BUILT'] = data['YEAR BUILT'] - 1800\n",
    "del data['BLOCK']\n",
    "del data['LOT']\n",
    "numeric_data=data.select_dtypes(include=[np.number])\n",
    "numeric_data.describe()"
   ]
  },
  {
   "cell_type": "code",
   "execution_count": 597,
   "metadata": {
    "_uuid": "57ab241ae7499d7718d7873ade1238dcf71756f9"
   },
   "outputs": [
    {
     "data": {
      "text/html": [
       "<div>\n",
       "<style scoped>\n",
       "    .dataframe tbody tr th:only-of-type {\n",
       "        vertical-align: middle;\n",
       "    }\n",
       "\n",
       "    .dataframe tbody tr th {\n",
       "        vertical-align: top;\n",
       "    }\n",
       "\n",
       "    .dataframe thead th {\n",
       "        text-align: right;\n",
       "    }\n",
       "</style>\n",
       "<table border=\"1\" class=\"dataframe\">\n",
       "  <thead>\n",
       "    <tr style=\"text-align: right;\">\n",
       "      <th></th>\n",
       "      <th>TOTAL UNITS</th>\n",
       "      <th>YEAR BUILT</th>\n",
       "      <th>SALE PRICE</th>\n",
       "    </tr>\n",
       "  </thead>\n",
       "  <tbody>\n",
       "    <tr>\n",
       "      <td>count</td>\n",
       "      <td>13737.000000</td>\n",
       "      <td>13737.000000</td>\n",
       "      <td>1.373700e+04</td>\n",
       "    </tr>\n",
       "    <tr>\n",
       "      <td>mean</td>\n",
       "      <td>1.008153</td>\n",
       "      <td>1946.374973</td>\n",
       "      <td>1.675664e+06</td>\n",
       "    </tr>\n",
       "    <tr>\n",
       "      <td>std</td>\n",
       "      <td>0.699503</td>\n",
       "      <td>81.714016</td>\n",
       "      <td>3.253942e+06</td>\n",
       "    </tr>\n",
       "    <tr>\n",
       "      <td>min</td>\n",
       "      <td>1.000000</td>\n",
       "      <td>1800.000000</td>\n",
       "      <td>0.000000e+00</td>\n",
       "    </tr>\n",
       "    <tr>\n",
       "      <td>25%</td>\n",
       "      <td>1.000000</td>\n",
       "      <td>1910.000000</td>\n",
       "      <td>4.800000e+05</td>\n",
       "    </tr>\n",
       "    <tr>\n",
       "      <td>50%</td>\n",
       "      <td>1.000000</td>\n",
       "      <td>1987.000000</td>\n",
       "      <td>8.750000e+05</td>\n",
       "    </tr>\n",
       "    <tr>\n",
       "      <td>75%</td>\n",
       "      <td>1.000000</td>\n",
       "      <td>2008.000000</td>\n",
       "      <td>1.675000e+06</td>\n",
       "    </tr>\n",
       "    <tr>\n",
       "      <td>max</td>\n",
       "      <td>72.000000</td>\n",
       "      <td>2016.000000</td>\n",
       "      <td>9.852570e+07</td>\n",
       "    </tr>\n",
       "  </tbody>\n",
       "</table>\n",
       "</div>"
      ],
      "text/plain": [
       "        TOTAL UNITS    YEAR BUILT    SALE PRICE\n",
       "count  13737.000000  13737.000000  1.373700e+04\n",
       "mean       1.008153   1946.374973  1.675664e+06\n",
       "std        0.699503     81.714016  3.253942e+06\n",
       "min        1.000000   1800.000000  0.000000e+00\n",
       "25%        1.000000   1910.000000  4.800000e+05\n",
       "50%        1.000000   1987.000000  8.750000e+05\n",
       "75%        1.000000   2008.000000  1.675000e+06\n",
       "max       72.000000   2016.000000  9.852570e+07"
      ]
     },
     "execution_count": 597,
     "metadata": {},
     "output_type": "execute_result"
    }
   ],
   "source": [
    "del data['COMMERCIAL UNITS']\n",
    "del data['RESIDENTIAL UNITS']\n",
    "numeric_data=data.select_dtypes(include=[np.number])\n",
    "numeric_data.describe()"
   ]
  },
  {
   "cell_type": "code",
   "execution_count": 598,
   "metadata": {
    "_uuid": "26eebb4a81835476fed360e91bb568d98a04e9d0"
   },
   "outputs": [
    {
     "data": {
      "image/png": "[encoded data removed]",
      "text/plain": [
       "<Figure size 1080x432 with 1 Axes>"
      ]
     },
     "metadata": {
      "needs_background": "light"
     },
     "output_type": "display_data"
    }
   ],
   "source": [
    "plt.figure(figsize=(15,6))\n",
    "\n",
    "sns.boxplot(x='SALE PRICE', data=data)\n",
    "plt.ticklabel_format(style='plain', axis='x')\n",
    "plt.title('Boxplot of SALE PRICE in USD')\n",
    "plt.show()"
   ]
  },
  {
   "cell_type": "code",
   "execution_count": 599,
   "metadata": {
    "_uuid": "ffd117af5b9a5ee4cb9963072b594ff78adade37"
   },
   "outputs": [
    {
     "data": {
      "text/plain": [
       "<matplotlib.axes._subplots.AxesSubplot at 0x15ae0d91308>"
      ]
     },
     "execution_count": 599,
     "metadata": {},
     "output_type": "execute_result"
    },
    {
     "data": {
      "image/png": "[encoded data removed]",
      "text/plain": [
       "<Figure size 432x288 with 1 Axes>"
      ]
     },
     "metadata": {
      "needs_background": "light"
     },
     "output_type": "display_data"
    }
   ],
   "source": [
    "sns.distplot(data['SALE PRICE'])"
   ]
  },
  {
   "cell_type": "code",
   "execution_count": 600,
   "metadata": {
    "_uuid": "2f7249cd56a7627b08f44f346cd4a088f0841fcf"
   },
   "outputs": [],
   "source": [
    "# Remove observations that fall outside those caps\n",
    "data = data[(data['SALE PRICE'] > 100000) & (data['SALE PRICE'] < 5000000)]"
   ]
  },
  {
   "cell_type": "code",
   "execution_count": 601,
   "metadata": {
    "_uuid": "72b69c2a6088543e5b78b800d4efc14d5b04645c"
   },
   "outputs": [
    {
     "data": {
      "text/plain": [
       "<matplotlib.axes._subplots.AxesSubplot at 0x15ae50fa488>"
      ]
     },
     "execution_count": 601,
     "metadata": {},
     "output_type": "execute_result"
    },
    {
     "data": {
      "image/png": "[encoded data removed]",
      "text/plain": [
       "<Figure size 432x288 with 1 Axes>"
      ]
     },
     "metadata": {
      "needs_background": "light"
     },
     "output_type": "display_data"
    }
   ],
   "source": [
    "sns.distplot(data['SALE PRICE'])"
   ]
  },
  {
   "cell_type": "code",
   "execution_count": 602,
   "metadata": {
    "_uuid": "32b7704ff533b0d27eca7fd12a7ef7111781d169"
   },
   "outputs": [
    {
     "data": {
      "text/plain": [
       "1.6053578192311273"
      ]
     },
     "execution_count": 602,
     "metadata": {},
     "output_type": "execute_result"
    }
   ],
   "source": [
    "data['SALE PRICE'].skew()"
   ]
  },
  {
   "cell_type": "code",
   "execution_count": 603,
   "metadata": {
    "_uuid": "fc49e43b070b6a3963a04d2c8e3eea874d9e54c4"
   },
   "outputs": [
    {
     "name": "stdout",
     "output_type": "stream",
     "text": [
      "-0.12415474219558018\n"
     ]
    },
    {
     "data": {
      "text/plain": [
       "<matplotlib.axes._subplots.AxesSubplot at 0x15ae521ec88>"
      ]
     },
     "execution_count": 603,
     "metadata": {},
     "output_type": "execute_result"
    },
    {
     "data": {
      "image/png": "[encoded data removed]",
      "text/plain": [
       "<Figure size 432x288 with 1 Axes>"
      ]
     },
     "metadata": {
      "needs_background": "light"
     },
     "output_type": "display_data"
    }
   ],
   "source": [
    "sales=np.log(data['SALE PRICE'])\n",
    "print(sales.skew())\n",
    "sns.distplot(sales)"
   ]
  },
  {
   "cell_type": "code",
   "execution_count": 604,
   "metadata": {
    "_uuid": "fc49e43b070b6a3963a04d2c8e3eea874d9e54c4"
   },
   "outputs": [
    {
     "data": {
      "text/plain": [
       "<matplotlib.axes._subplots.AxesSubplot at 0x15ae534b8c8>"
      ]
     },
     "execution_count": 604,
     "metadata": {},
     "output_type": "execute_result"
    },
    {
     "data": {
      "image/png": "[encoded data removed]",
      "text/plain": [
       "<Figure size 432x288 with 1 Axes>"
      ]
     },
     "metadata": {
      "needs_background": "light"
     },
     "output_type": "display_data"
    }
   ],
   "source": [
    "sns.distplot(data['YEAR BUILT'])"
   ]
  },
  {
   "cell_type": "code",
   "execution_count": 605,
   "metadata": {
    "_uuid": "8726644b46eb3c1cadb51f124a05937c0de170f1"
   },
   "outputs": [
    {
     "data": {
      "text/html": [
       "<div>\n",
       "<style scoped>\n",
       "    .dataframe tbody tr th:only-of-type {\n",
       "        vertical-align: middle;\n",
       "    }\n",
       "\n",
       "    .dataframe tbody tr th {\n",
       "        vertical-align: top;\n",
       "    }\n",
       "\n",
       "    .dataframe thead th {\n",
       "        text-align: right;\n",
       "    }\n",
       "</style>\n",
       "<table border=\"1\" class=\"dataframe\">\n",
       "  <thead>\n",
       "    <tr style=\"text-align: right;\">\n",
       "      <th></th>\n",
       "      <th>TOTAL UNITS</th>\n",
       "      <th>SALE PRICE</th>\n",
       "    </tr>\n",
       "  </thead>\n",
       "  <tbody>\n",
       "    <tr>\n",
       "      <td>0</td>\n",
       "      <td>1</td>\n",
       "      <td>11700</td>\n",
       "    </tr>\n",
       "  </tbody>\n",
       "</table>\n",
       "</div>"
      ],
      "text/plain": [
       "   TOTAL UNITS  SALE PRICE\n",
       "0            1       11700"
      ]
     },
     "execution_count": 605,
     "metadata": {},
     "output_type": "execute_result"
    }
   ],
   "source": [
    "data[[\"TOTAL UNITS\", \"SALE PRICE\"]].groupby(['TOTAL UNITS'], as_index=False).count().sort_values(by='SALE PRICE', ascending=False)"
   ]
  },
  {
   "cell_type": "code",
   "execution_count": 606,
   "metadata": {
    "_uuid": "9f2abe891422c1d61e7ac13e25158c4c005e2e52"
   },
   "outputs": [
    {
     "data": {
      "text/html": [
       "<div>\n",
       "<style scoped>\n",
       "    .dataframe tbody tr th:only-of-type {\n",
       "        vertical-align: middle;\n",
       "    }\n",
       "\n",
       "    .dataframe tbody tr th {\n",
       "        vertical-align: top;\n",
       "    }\n",
       "\n",
       "    .dataframe thead th {\n",
       "        text-align: right;\n",
       "    }\n",
       "</style>\n",
       "<table border=\"1\" class=\"dataframe\">\n",
       "  <thead>\n",
       "    <tr style=\"text-align: right;\">\n",
       "      <th></th>\n",
       "      <th>BOROUGH</th>\n",
       "      <th>NEIGHBORHOOD</th>\n",
       "      <th>BUILDING CLASS CATEGORY</th>\n",
       "      <th>TAX CLASS AT PRESENT</th>\n",
       "      <th>EASE-MENT</th>\n",
       "      <th>BUILDING CLASS AT PRESENT</th>\n",
       "      <th>ADDRESS</th>\n",
       "      <th>APARTMENT NUMBER</th>\n",
       "      <th>ZIP CODE</th>\n",
       "      <th>TAX CLASS AT TIME OF SALE</th>\n",
       "      <th>BUILDING CLASS AT TIME OF SALE</th>\n",
       "      <th>SALE DATE</th>\n",
       "    </tr>\n",
       "  </thead>\n",
       "  <tbody>\n",
       "    <tr>\n",
       "      <td>count</td>\n",
       "      <td>11700</td>\n",
       "      <td>11700</td>\n",
       "      <td>11700</td>\n",
       "      <td>11700</td>\n",
       "      <td>11700</td>\n",
       "      <td>11700</td>\n",
       "      <td>11700</td>\n",
       "      <td>11700</td>\n",
       "      <td>11700</td>\n",
       "      <td>11700</td>\n",
       "      <td>11700</td>\n",
       "      <td>11700</td>\n",
       "    </tr>\n",
       "    <tr>\n",
       "      <td>unique</td>\n",
       "      <td>5</td>\n",
       "      <td>180</td>\n",
       "      <td>4</td>\n",
       "      <td>4</td>\n",
       "      <td>1</td>\n",
       "      <td>5</td>\n",
       "      <td>4629</td>\n",
       "      <td>2497</td>\n",
       "      <td>158</td>\n",
       "      <td>2</td>\n",
       "      <td>5</td>\n",
       "      <td>265</td>\n",
       "    </tr>\n",
       "    <tr>\n",
       "      <td>top</td>\n",
       "      <td>1</td>\n",
       "      <td>FLUSHING-NORTH</td>\n",
       "      <td>13 CONDOS - ELEVATOR APARTMENTS</td>\n",
       "      <td>2</td>\n",
       "      <td></td>\n",
       "      <td>R4</td>\n",
       "      <td>131-05 40TH   ROAD</td>\n",
       "      <td></td>\n",
       "      <td>11354</td>\n",
       "      <td>2</td>\n",
       "      <td>R4</td>\n",
       "      <td>2016-12-22 00:00:00</td>\n",
       "    </tr>\n",
       "    <tr>\n",
       "      <td>freq</td>\n",
       "      <td>4991</td>\n",
       "      <td>813</td>\n",
       "      <td>8924</td>\n",
       "      <td>9564</td>\n",
       "      <td>11700</td>\n",
       "      <td>8919</td>\n",
       "      <td>209</td>\n",
       "      <td>404</td>\n",
       "      <td>652</td>\n",
       "      <td>10497</td>\n",
       "      <td>8924</td>\n",
       "      <td>87</td>\n",
       "    </tr>\n",
       "  </tbody>\n",
       "</table>\n",
       "</div>"
      ],
      "text/plain": [
       "        BOROUGH    NEIGHBORHOOD                      BUILDING CLASS CATEGORY  \\\n",
       "count     11700           11700                                        11700   \n",
       "unique        5             180                                            4   \n",
       "top           1  FLUSHING-NORTH  13 CONDOS - ELEVATOR APARTMENTS               \n",
       "freq       4991             813                                         8924   \n",
       "\n",
       "       TAX CLASS AT PRESENT EASE-MENT BUILDING CLASS AT PRESENT  \\\n",
       "count                 11700     11700                     11700   \n",
       "unique                    4         1                         5   \n",
       "top                       2                                  R4   \n",
       "freq                   9564     11700                      8919   \n",
       "\n",
       "                   ADDRESS APARTMENT NUMBER  ZIP CODE  \\\n",
       "count                11700            11700     11700   \n",
       "unique                4629             2497       158   \n",
       "top     131-05 40TH   ROAD                      11354   \n",
       "freq                   209              404       652   \n",
       "\n",
       "        TAX CLASS AT TIME OF SALE BUILDING CLASS AT TIME OF SALE  \\\n",
       "count                       11700                          11700   \n",
       "unique                          2                              5   \n",
       "top                             2                             R4   \n",
       "freq                        10497                           8924   \n",
       "\n",
       "                  SALE DATE  \n",
       "count                 11700  \n",
       "unique                  265  \n",
       "top     2016-12-22 00:00:00  \n",
       "freq                     87  "
      ]
     },
     "execution_count": 606,
     "metadata": {},
     "output_type": "execute_result"
    }
   ],
   "source": [
    "del data['TOTAL UNITS']\n",
    "cat_data=data.select_dtypes(exclude=[np.number])\n",
    "cat_data.describe()"
   ]
  },
  {
   "cell_type": "code",
   "execution_count": 607,
   "metadata": {
    "_uuid": "bfaf8dce4c86d4027359c290b78ac6fac9224bfc"
   },
   "outputs": [
    {
     "data": {
      "text/html": [
       "<div>\n",
       "<style scoped>\n",
       "    .dataframe tbody tr th:only-of-type {\n",
       "        vertical-align: middle;\n",
       "    }\n",
       "\n",
       "    .dataframe tbody tr th {\n",
       "        vertical-align: top;\n",
       "    }\n",
       "\n",
       "    .dataframe thead th {\n",
       "        text-align: right;\n",
       "    }\n",
       "</style>\n",
       "<table border=\"1\" class=\"dataframe\">\n",
       "  <thead>\n",
       "    <tr style=\"text-align: right;\">\n",
       "      <th></th>\n",
       "      <th>SALE PRICE</th>\n",
       "    </tr>\n",
       "    <tr>\n",
       "      <th>NEIGHBORHOOD</th>\n",
       "      <th></th>\n",
       "    </tr>\n",
       "  </thead>\n",
       "  <tbody>\n",
       "    <tr>\n",
       "      <td>AIRPORT LA GUARDIA</td>\n",
       "      <td>377000.0</td>\n",
       "    </tr>\n",
       "    <tr>\n",
       "      <td>ALPHABET CITY</td>\n",
       "      <td>1300000.0</td>\n",
       "    </tr>\n",
       "    <tr>\n",
       "      <td>ARDEN HEIGHTS</td>\n",
       "      <td>366750.0</td>\n",
       "    </tr>\n",
       "    <tr>\n",
       "      <td>ARROCHAR-SHORE ACRES</td>\n",
       "      <td>266000.0</td>\n",
       "    </tr>\n",
       "    <tr>\n",
       "      <td>ARVERNE</td>\n",
       "      <td>295648.0</td>\n",
       "    </tr>\n",
       "    <tr>\n",
       "      <td>...</td>\n",
       "      <td>...</td>\n",
       "    </tr>\n",
       "    <tr>\n",
       "      <td>WILLOWBROOK</td>\n",
       "      <td>420810.0</td>\n",
       "    </tr>\n",
       "    <tr>\n",
       "      <td>WINDSOR TERRACE</td>\n",
       "      <td>840000.0</td>\n",
       "    </tr>\n",
       "    <tr>\n",
       "      <td>WOODHAVEN</td>\n",
       "      <td>310000.0</td>\n",
       "    </tr>\n",
       "    <tr>\n",
       "      <td>WOODSIDE</td>\n",
       "      <td>486860.0</td>\n",
       "    </tr>\n",
       "    <tr>\n",
       "      <td>WYCKOFF HEIGHTS</td>\n",
       "      <td>812000.0</td>\n",
       "    </tr>\n",
       "  </tbody>\n",
       "</table>\n",
       "<p>180 rows × 1 columns</p>\n",
       "</div>"
      ],
      "text/plain": [
       "                      SALE PRICE\n",
       "NEIGHBORHOOD                    \n",
       "AIRPORT LA GUARDIA      377000.0\n",
       "ALPHABET CITY          1300000.0\n",
       "ARDEN HEIGHTS           366750.0\n",
       "ARROCHAR-SHORE ACRES    266000.0\n",
       "ARVERNE                 295648.0\n",
       "...                          ...\n",
       "WILLOWBROOK             420810.0\n",
       "WINDSOR TERRACE         840000.0\n",
       "WOODHAVEN               310000.0\n",
       "WOODSIDE                486860.0\n",
       "WYCKOFF HEIGHTS         812000.0\n",
       "\n",
       "[180 rows x 1 columns]"
      ]
     },
     "execution_count": 607,
     "metadata": {},
     "output_type": "execute_result"
    }
   ],
   "source": [
    "pivot=data.pivot_table(index='NEIGHBORHOOD', values='SALE PRICE', aggfunc=np.median)\n",
    "pivot"
   ]
  },
  {
   "cell_type": "code",
   "execution_count": 608,
   "metadata": {
    "_uuid": "d86719c2ba9682190ab710cf754b2fe911426a58"
   },
   "outputs": [
    {
     "data": {
      "text/plain": [
       "<matplotlib.axes._subplots.AxesSubplot at 0x15ae56dd148>"
      ]
     },
     "execution_count": 608,
     "metadata": {},
     "output_type": "execute_result"
    },
    {
     "data": {
      "image/png": "[encoded data removed]",
      "text/plain": [
       "<Figure size 432x288 with 1 Axes>"
      ]
     },
     "metadata": {
      "needs_background": "light"
     },
     "output_type": "display_data"
    }
   ],
   "source": [
    "pivot.plot(kind='bar', color='black')"
   ]
  },
  {
   "cell_type": "code",
   "execution_count": 609,
   "metadata": {
    "_uuid": "af74d73a07c485e16582bf6e9e2c058a0aa9663f"
   },
   "outputs": [
    {
     "data": {
      "text/plain": [
       "[10009, 10002, 10011, 10001, 10014, ..., 10306, 10308, 10302, 10309, 10307]\n",
       "Length: 158\n",
       "Categories (158, int64): [10009, 10002, 10011, 10001, ..., 10308, 10302, 10309, 10307]"
      ]
     },
     "execution_count": 609,
     "metadata": {},
     "output_type": "execute_result"
    }
   ],
   "source": [
    "#  TAX CLASS AT TIME OF SALE\n",
    "data['ZIP CODE'].unique()"
   ]
  },
  {
   "cell_type": "code",
   "execution_count": 610,
   "metadata": {
    "_uuid": "c77d950092fb9dc35a2d5e36b1d8c4515f2b1c19"
   },
   "outputs": [
    {
     "data": {
      "text/html": [
       "<div>\n",
       "<style scoped>\n",
       "    .dataframe tbody tr th:only-of-type {\n",
       "        vertical-align: middle;\n",
       "    }\n",
       "\n",
       "    .dataframe tbody tr th {\n",
       "        vertical-align: top;\n",
       "    }\n",
       "\n",
       "    .dataframe thead th {\n",
       "        text-align: right;\n",
       "    }\n",
       "</style>\n",
       "<table border=\"1\" class=\"dataframe\">\n",
       "  <thead>\n",
       "    <tr style=\"text-align: right;\">\n",
       "      <th></th>\n",
       "      <th>SALE PRICE</th>\n",
       "    </tr>\n",
       "    <tr>\n",
       "      <th>ZIP CODE</th>\n",
       "      <th></th>\n",
       "    </tr>\n",
       "  </thead>\n",
       "  <tbody>\n",
       "    <tr>\n",
       "      <td>0</td>\n",
       "      <td>2775000.0</td>\n",
       "    </tr>\n",
       "    <tr>\n",
       "      <td>10001</td>\n",
       "      <td>1900000.0</td>\n",
       "    </tr>\n",
       "    <tr>\n",
       "      <td>10002</td>\n",
       "      <td>999999.0</td>\n",
       "    </tr>\n",
       "    <tr>\n",
       "      <td>10003</td>\n",
       "      <td>1901835.5</td>\n",
       "    </tr>\n",
       "    <tr>\n",
       "      <td>10004</td>\n",
       "      <td>1230000.0</td>\n",
       "    </tr>\n",
       "    <tr>\n",
       "      <td>...</td>\n",
       "      <td>...</td>\n",
       "    </tr>\n",
       "    <tr>\n",
       "      <td>11435</td>\n",
       "      <td>410000.0</td>\n",
       "    </tr>\n",
       "    <tr>\n",
       "      <td>11691</td>\n",
       "      <td>290000.0</td>\n",
       "    </tr>\n",
       "    <tr>\n",
       "      <td>11692</td>\n",
       "      <td>295648.0</td>\n",
       "    </tr>\n",
       "    <tr>\n",
       "      <td>11693</td>\n",
       "      <td>242500.0</td>\n",
       "    </tr>\n",
       "    <tr>\n",
       "      <td>11694</td>\n",
       "      <td>426000.0</td>\n",
       "    </tr>\n",
       "  </tbody>\n",
       "</table>\n",
       "<p>158 rows × 1 columns</p>\n",
       "</div>"
      ],
      "text/plain": [
       "          SALE PRICE\n",
       "ZIP CODE            \n",
       "0          2775000.0\n",
       "10001      1900000.0\n",
       "10002       999999.0\n",
       "10003      1901835.5\n",
       "10004      1230000.0\n",
       "...              ...\n",
       "11435       410000.0\n",
       "11691       290000.0\n",
       "11692       295648.0\n",
       "11693       242500.0\n",
       "11694       426000.0\n",
       "\n",
       "[158 rows x 1 columns]"
      ]
     },
     "execution_count": 610,
     "metadata": {},
     "output_type": "execute_result"
    }
   ],
   "source": [
    "pivot=data.pivot_table(index='ZIP CODE', values='SALE PRICE', aggfunc=np.median)\n",
    "pivot"
   ]
  },
  {
   "cell_type": "code",
   "execution_count": 611,
   "metadata": {
    "_uuid": "64325af399337164e2aecc69a6c31ef959cd5359"
   },
   "outputs": [
    {
     "data": {
      "text/plain": [
       "<matplotlib.axes._subplots.AxesSubplot at 0x15ae68f2488>"
      ]
     },
     "execution_count": 611,
     "metadata": {},
     "output_type": "execute_result"
    },
    {
     "data": {
      "image/png": "[encoded data removed]",
      "text/plain": [
       "<Figure size 432x288 with 1 Axes>"
      ]
     },
     "metadata": {
      "needs_background": "light"
     },
     "output_type": "display_data"
    }
   ],
   "source": [
    "pivot.plot(kind='bar', color='red')"
   ]
  },
  {
   "cell_type": "code",
   "execution_count": 612,
   "metadata": {
    "_uuid": "25fd514970e2643d4e16a66f4ee9485b9aabefa8"
   },
   "outputs": [
    {
     "data": {
      "text/plain": [
       "[1, 2, 3, 4, 5]\n",
       "Categories (5, int64): [1, 2, 3, 4, 5]"
      ]
     },
     "execution_count": 612,
     "metadata": {},
     "output_type": "execute_result"
    }
   ],
   "source": [
    "# BOROUGH\n",
    "data['BOROUGH'].unique()"
   ]
  },
  {
   "cell_type": "code",
   "execution_count": 613,
   "metadata": {
    "_uuid": "ca76f4bc494a62e27c82fa165d8427d747630bf7"
   },
   "outputs": [
    {
     "data": {
      "text/html": [
       "<div>\n",
       "<style scoped>\n",
       "    .dataframe tbody tr th:only-of-type {\n",
       "        vertical-align: middle;\n",
       "    }\n",
       "\n",
       "    .dataframe tbody tr th {\n",
       "        vertical-align: top;\n",
       "    }\n",
       "\n",
       "    .dataframe thead th {\n",
       "        text-align: right;\n",
       "    }\n",
       "</style>\n",
       "<table border=\"1\" class=\"dataframe\">\n",
       "  <thead>\n",
       "    <tr style=\"text-align: right;\">\n",
       "      <th></th>\n",
       "      <th>SALE PRICE</th>\n",
       "    </tr>\n",
       "    <tr>\n",
       "      <th>BOROUGH</th>\n",
       "      <th></th>\n",
       "    </tr>\n",
       "  </thead>\n",
       "  <tbody>\n",
       "    <tr>\n",
       "      <td>1</td>\n",
       "      <td>1395000.0</td>\n",
       "    </tr>\n",
       "    <tr>\n",
       "      <td>2</td>\n",
       "      <td>176500.0</td>\n",
       "    </tr>\n",
       "    <tr>\n",
       "      <td>3</td>\n",
       "      <td>865000.0</td>\n",
       "    </tr>\n",
       "    <tr>\n",
       "      <td>4</td>\n",
       "      <td>573650.0</td>\n",
       "    </tr>\n",
       "    <tr>\n",
       "      <td>5</td>\n",
       "      <td>305000.0</td>\n",
       "    </tr>\n",
       "  </tbody>\n",
       "</table>\n",
       "</div>"
      ],
      "text/plain": [
       "         SALE PRICE\n",
       "BOROUGH            \n",
       "1         1395000.0\n",
       "2          176500.0\n",
       "3          865000.0\n",
       "4          573650.0\n",
       "5          305000.0"
      ]
     },
     "execution_count": 613,
     "metadata": {},
     "output_type": "execute_result"
    }
   ],
   "source": [
    "pivot=data.pivot_table(index='BOROUGH', values='SALE PRICE', aggfunc=np.median)\n",
    "pivot"
   ]
  },
  {
   "cell_type": "code",
   "execution_count": 614,
   "metadata": {
    "_uuid": "58eb7d70779d4891991129da1cc7977caac8967d"
   },
   "outputs": [
    {
     "data": {
      "text/plain": [
       "<matplotlib.axes._subplots.AxesSubplot at 0x15ae6d0c988>"
      ]
     },
     "execution_count": 614,
     "metadata": {},
     "output_type": "execute_result"
    },
    {
     "data": {
      "image/png": "[encoded data removed]",
      "text/plain": [
       "<Figure size 432x288 with 1 Axes>"
      ]
     },
     "metadata": {
      "needs_background": "light"
     },
     "output_type": "display_data"
    }
   ],
   "source": [
    "pivot.plot(kind='bar', color='blue')"
   ]
  },
  {
   "cell_type": "code",
   "execution_count": 615,
   "metadata": {
    "_uuid": "beb6de6973b90ddfb7602d44711d178268cd637c"
   },
   "outputs": [
    {
     "name": "stdout",
     "output_type": "stream",
     "text": [
      "4\n"
     ]
    },
    {
     "data": {
      "text/html": [
       "<div>\n",
       "<style scoped>\n",
       "    .dataframe tbody tr th:only-of-type {\n",
       "        vertical-align: middle;\n",
       "    }\n",
       "\n",
       "    .dataframe tbody tr th {\n",
       "        vertical-align: top;\n",
       "    }\n",
       "\n",
       "    .dataframe thead th {\n",
       "        text-align: right;\n",
       "    }\n",
       "</style>\n",
       "<table border=\"1\" class=\"dataframe\">\n",
       "  <thead>\n",
       "    <tr style=\"text-align: right;\">\n",
       "      <th></th>\n",
       "      <th>SALE PRICE</th>\n",
       "    </tr>\n",
       "    <tr>\n",
       "      <th>BUILDING CLASS CATEGORY</th>\n",
       "      <th></th>\n",
       "    </tr>\n",
       "  </thead>\n",
       "  <tbody>\n",
       "    <tr>\n",
       "      <td>04 TAX CLASS 1 CONDOS</td>\n",
       "      <td>420000.0</td>\n",
       "    </tr>\n",
       "    <tr>\n",
       "      <td>12 CONDOS - WALKUP APARTMENTS</td>\n",
       "      <td>528000.0</td>\n",
       "    </tr>\n",
       "    <tr>\n",
       "      <td>13 CONDOS - ELEVATOR APARTMENTS</td>\n",
       "      <td>999999.0</td>\n",
       "    </tr>\n",
       "    <tr>\n",
       "      <td>15 CONDOS - 2-10 UNIT RESIDENTIAL</td>\n",
       "      <td>830000.0</td>\n",
       "    </tr>\n",
       "  </tbody>\n",
       "</table>\n",
       "</div>"
      ],
      "text/plain": [
       "                                             SALE PRICE\n",
       "BUILDING CLASS CATEGORY                                \n",
       "04 TAX CLASS 1 CONDOS                          420000.0\n",
       "12 CONDOS - WALKUP APARTMENTS                  528000.0\n",
       "13 CONDOS - ELEVATOR APARTMENTS                999999.0\n",
       "15 CONDOS - 2-10 UNIT RESIDENTIAL              830000.0"
      ]
     },
     "execution_count": 615,
     "metadata": {},
     "output_type": "execute_result"
    }
   ],
   "source": [
    "# BUILDING CLASS CATEGORY\n",
    "print(data['BUILDING CLASS CATEGORY'].nunique())\n",
    "\n",
    "pivot=data.pivot_table(index='BUILDING CLASS CATEGORY', values='SALE PRICE', aggfunc=np.median)\n",
    "pivot"
   ]
  },
  {
   "cell_type": "code",
   "execution_count": 616,
   "metadata": {
    "_uuid": "aea17bb27cee3ede95d8c9195a848babcf2e0d57"
   },
   "outputs": [
    {
     "data": {
      "text/plain": [
       "<matplotlib.axes._subplots.AxesSubplot at 0x15ae6d6bf08>"
      ]
     },
     "execution_count": 616,
     "metadata": {},
     "output_type": "execute_result"
    },
    {
     "data": {
      "image/png": "[encoded data removed]",
      "text/plain": [
       "<Figure size 432x288 with 1 Axes>"
      ]
     },
     "metadata": {
      "needs_background": "light"
     },
     "output_type": "display_data"
    }
   ],
   "source": [
    "pivot.plot(kind='bar', color='Green')"
   ]
  },
  {
   "cell_type": "code",
   "execution_count": 617,
   "metadata": {
    "_uuid": "9ee0205d0e9b3e10bce9b6212c3b027883527dee"
   },
   "outputs": [],
   "source": [
    "del data['ADDRESS']\n",
    "del data['APARTMENT NUMBER']\n",
    "del df['BLOCK']\n",
    "del df['LOT']\n",
    "del df['EASE-MENT']"
   ]
  },
  {
   "cell_type": "code",
   "execution_count": 618,
   "metadata": {
    "_uuid": "ae3adf12c7283985bab2712c439881d5ef6dcc4a"
   },
   "outputs": [
    {
     "name": "stdout",
     "output_type": "stream",
     "text": [
      "<class 'pandas.core.frame.DataFrame'>\n",
      "Int64Index: 11700 entries, 76 to 84388\n",
      "Data columns (total 12 columns):\n",
      "BOROUGH                           11700 non-null category\n",
      "NEIGHBORHOOD                      11700 non-null object\n",
      "BUILDING CLASS CATEGORY           11700 non-null object\n",
      "TAX CLASS AT PRESENT              11700 non-null object\n",
      "EASE-MENT                         11700 non-null object\n",
      "BUILDING CLASS AT PRESENT         11700 non-null object\n",
      "ZIP CODE                          11700 non-null category\n",
      "YEAR BUILT                        11700 non-null int64\n",
      "TAX CLASS AT TIME OF SALE         11700 non-null category\n",
      "BUILDING CLASS AT TIME OF SALE    11700 non-null object\n",
      "SALE PRICE                        11700 non-null float64\n",
      "SALE DATE                         11700 non-null object\n",
      "dtypes: category(3), float64(1), int64(1), object(7)\n",
      "memory usage: 966.3+ KB\n"
     ]
    }
   ],
   "source": [
    "data.info()"
   ]
  },
  {
   "cell_type": "code",
   "execution_count": 619,
   "metadata": {
    "_uuid": "c28a3d220e0dadd82353c6d9a7160e70fd643a8f"
   },
   "outputs": [
    {
     "data": {
      "text/plain": [
       "Index(['YEAR BUILT', 'SALE PRICE'], dtype='object')"
      ]
     },
     "execution_count": 619,
     "metadata": {},
     "output_type": "execute_result"
    }
   ],
   "source": [
    "numeric_data=data.select_dtypes(include=[np.number])\n",
    "numeric_data.columns"
   ]
  },
  {
   "cell_type": "code",
   "execution_count": 620,
   "metadata": {
    "_uuid": "68eee22fa18ec02227c9442acca7ebc8f81d9513"
   },
   "outputs": [],
   "source": [
    "#transform the numeric features using log(x + 1)\n",
    "skewed = data[numeric_data.columns].apply(lambda x: skew(x.dropna().astype(float)))\n",
    "skewed = skewed[skewed > 0.75]\n",
    "skewed = skewed.index\n",
    "data[skewed] = np.log1p(data[skewed])"
   ]
  },
  {
   "cell_type": "code",
   "execution_count": 621,
   "metadata": {
    "_uuid": "7a67d3188edc3c69321e6c7d4b3b0de2af8846d9"
   },
   "outputs": [],
   "source": [
    "\n",
    "scaler = StandardScaler()\n",
    "scaler.fit(data[numeric_data.columns])\n",
    "scaled = scaler.transform(data[numeric_data.columns])\n",
    "\n",
    "for i, col in enumerate(numeric_data.columns):\n",
    "       data[col] = scaled[:,i]"
   ]
  },
  {
   "cell_type": "code",
   "execution_count": 622,
   "metadata": {
    "_uuid": "4f057fd9912cf3ed3327dc4bfde249b197cf7dc5"
   },
   "outputs": [
    {
     "data": {
      "text/html": [
       "<div>\n",
       "<style scoped>\n",
       "    .dataframe tbody tr th:only-of-type {\n",
       "        vertical-align: middle;\n",
       "    }\n",
       "\n",
       "    .dataframe tbody tr th {\n",
       "        vertical-align: top;\n",
       "    }\n",
       "\n",
       "    .dataframe thead th {\n",
       "        text-align: right;\n",
       "    }\n",
       "</style>\n",
       "<table border=\"1\" class=\"dataframe\">\n",
       "  <thead>\n",
       "    <tr style=\"text-align: right;\">\n",
       "      <th></th>\n",
       "      <th>BOROUGH</th>\n",
       "      <th>NEIGHBORHOOD</th>\n",
       "      <th>BUILDING CLASS CATEGORY</th>\n",
       "      <th>TAX CLASS AT PRESENT</th>\n",
       "      <th>EASE-MENT</th>\n",
       "      <th>BUILDING CLASS AT PRESENT</th>\n",
       "      <th>ZIP CODE</th>\n",
       "      <th>YEAR BUILT</th>\n",
       "      <th>TAX CLASS AT TIME OF SALE</th>\n",
       "      <th>BUILDING CLASS AT TIME OF SALE</th>\n",
       "      <th>SALE PRICE</th>\n",
       "      <th>SALE DATE</th>\n",
       "    </tr>\n",
       "  </thead>\n",
       "  <tbody>\n",
       "    <tr>\n",
       "      <td>76</td>\n",
       "      <td>1</td>\n",
       "      <td>ALPHABET CITY</td>\n",
       "      <td>12 CONDOS - WALKUP APARTMENTS</td>\n",
       "      <td>2</td>\n",
       "      <td></td>\n",
       "      <td>R2</td>\n",
       "      <td>10009</td>\n",
       "      <td>-1.831103</td>\n",
       "      <td>2</td>\n",
       "      <td>R2</td>\n",
       "      <td>-0.498391</td>\n",
       "      <td>2016-12-30 00:00:00</td>\n",
       "    </tr>\n",
       "    <tr>\n",
       "      <td>79</td>\n",
       "      <td>1</td>\n",
       "      <td>ALPHABET CITY</td>\n",
       "      <td>13 CONDOS - ELEVATOR APARTMENTS</td>\n",
       "      <td>2</td>\n",
       "      <td></td>\n",
       "      <td>R4</td>\n",
       "      <td>10009</td>\n",
       "      <td>-0.345159</td>\n",
       "      <td>2</td>\n",
       "      <td>R4</td>\n",
       "      <td>-0.230401</td>\n",
       "      <td>2016-09-21 00:00:00</td>\n",
       "    </tr>\n",
       "    <tr>\n",
       "      <td>80</td>\n",
       "      <td>1</td>\n",
       "      <td>ALPHABET CITY</td>\n",
       "      <td>13 CONDOS - ELEVATOR APARTMENTS</td>\n",
       "      <td>2</td>\n",
       "      <td></td>\n",
       "      <td>R4</td>\n",
       "      <td>10009</td>\n",
       "      <td>-0.345159</td>\n",
       "      <td>2</td>\n",
       "      <td>R4</td>\n",
       "      <td>-0.213240</td>\n",
       "      <td>2016-09-12 00:00:00</td>\n",
       "    </tr>\n",
       "    <tr>\n",
       "      <td>81</td>\n",
       "      <td>1</td>\n",
       "      <td>ALPHABET CITY</td>\n",
       "      <td>13 CONDOS - ELEVATOR APARTMENTS</td>\n",
       "      <td>2</td>\n",
       "      <td></td>\n",
       "      <td>R4</td>\n",
       "      <td>10009</td>\n",
       "      <td>-0.345159</td>\n",
       "      <td>2</td>\n",
       "      <td>R4</td>\n",
       "      <td>0.164544</td>\n",
       "      <td>2016-11-03 00:00:00</td>\n",
       "    </tr>\n",
       "    <tr>\n",
       "      <td>85</td>\n",
       "      <td>1</td>\n",
       "      <td>ALPHABET CITY</td>\n",
       "      <td>13 CONDOS - ELEVATOR APARTMENTS</td>\n",
       "      <td>2</td>\n",
       "      <td></td>\n",
       "      <td>R4</td>\n",
       "      <td>10009</td>\n",
       "      <td>-0.345159</td>\n",
       "      <td>2</td>\n",
       "      <td>R4</td>\n",
       "      <td>-0.168565</td>\n",
       "      <td>2016-09-07 00:00:00</td>\n",
       "    </tr>\n",
       "  </tbody>\n",
       "</table>\n",
       "</div>"
      ],
      "text/plain": [
       "   BOROUGH   NEIGHBORHOOD                      BUILDING CLASS CATEGORY  \\\n",
       "76       1  ALPHABET CITY  12 CONDOS - WALKUP APARTMENTS                 \n",
       "79       1  ALPHABET CITY  13 CONDOS - ELEVATOR APARTMENTS               \n",
       "80       1  ALPHABET CITY  13 CONDOS - ELEVATOR APARTMENTS               \n",
       "81       1  ALPHABET CITY  13 CONDOS - ELEVATOR APARTMENTS               \n",
       "85       1  ALPHABET CITY  13 CONDOS - ELEVATOR APARTMENTS               \n",
       "\n",
       "   TAX CLASS AT PRESENT EASE-MENT BUILDING CLASS AT PRESENT ZIP CODE  \\\n",
       "76                    2                                  R2    10009   \n",
       "79                    2                                  R4    10009   \n",
       "80                    2                                  R4    10009   \n",
       "81                    2                                  R4    10009   \n",
       "85                    2                                  R4    10009   \n",
       "\n",
       "    YEAR BUILT TAX CLASS AT TIME OF SALE BUILDING CLASS AT TIME OF SALE  \\\n",
       "76   -1.831103                         2                             R2   \n",
       "79   -0.345159                         2                             R4   \n",
       "80   -0.345159                         2                             R4   \n",
       "81   -0.345159                         2                             R4   \n",
       "85   -0.345159                         2                             R4   \n",
       "\n",
       "    SALE PRICE            SALE DATE  \n",
       "76   -0.498391  2016-12-30 00:00:00  \n",
       "79   -0.230401  2016-09-21 00:00:00  \n",
       "80   -0.213240  2016-09-12 00:00:00  \n",
       "81    0.164544  2016-11-03 00:00:00  \n",
       "85   -0.168565  2016-09-07 00:00:00  "
      ]
     },
     "execution_count": 622,
     "metadata": {},
     "output_type": "execute_result"
    }
   ],
   "source": [
    "data.head()"
   ]
  },
  {
   "cell_type": "code",
   "execution_count": 623,
   "metadata": {
    "_uuid": "823fb4b89a19a3a5659a79268a61519728eb9c86"
   },
   "outputs": [],
   "source": [
    "del data['TAX CLASS AT PRESENT']\n",
    "del data['EASE-MENT']\n",
    "del data['BUILDING CLASS AT PRESENT']\n",
    "del data['TAX CLASS AT TIME OF SALE']\n",
    "del data['BUILDING CLASS AT TIME OF SALE']\n",
    "del data['SALE DATE']\n",
    "del data['ZIP CODE']"
   ]
  },
  {
   "cell_type": "code",
   "execution_count": 624,
   "metadata": {
    "_uuid": "823fb4b89a19a3a5659a79268a61519728eb9c86"
   },
   "outputs": [],
   "source": [
    "#Select the variables to be one-hot encoded\n",
    "one_hot_features = ['BOROUGH', 'BUILDING CLASS CATEGORY','NEIGHBORHOOD']"
   ]
  },
  {
   "cell_type": "code",
   "execution_count": 625,
   "metadata": {
    "_uuid": "f78ad421020078cb0e7428c21dd9e80a7275bc0f"
   },
   "outputs": [
    {
     "name": "stdout",
     "output_type": "stream",
     "text": [
      "<class 'pandas.core.frame.DataFrame'>\n",
      "Int64Index: 11700 entries, 76 to 84388\n",
      "Data columns (total 189 columns):\n",
      "BOROUGH_1                                                              11700 non-null uint8\n",
      "BOROUGH_2                                                              11700 non-null uint8\n",
      "BOROUGH_3                                                              11700 non-null uint8\n",
      "BOROUGH_4                                                              11700 non-null uint8\n",
      "BOROUGH_5                                                              11700 non-null uint8\n",
      "BUILDING CLASS CATEGORY_04 TAX CLASS 1 CONDOS                          11700 non-null uint8\n",
      "BUILDING CLASS CATEGORY_12 CONDOS - WALKUP APARTMENTS                  11700 non-null uint8\n",
      "BUILDING CLASS CATEGORY_13 CONDOS - ELEVATOR APARTMENTS                11700 non-null uint8\n",
      "BUILDING CLASS CATEGORY_15 CONDOS - 2-10 UNIT RESIDENTIAL              11700 non-null uint8\n",
      "NEIGHBORHOOD_AIRPORT LA GUARDIA                                        11700 non-null uint8\n",
      "NEIGHBORHOOD_ALPHABET CITY                                             11700 non-null uint8\n",
      "NEIGHBORHOOD_ARDEN HEIGHTS                                             11700 non-null uint8\n",
      "NEIGHBORHOOD_ARROCHAR-SHORE ACRES                                      11700 non-null uint8\n",
      "NEIGHBORHOOD_ARVERNE                                                   11700 non-null uint8\n",
      "NEIGHBORHOOD_ASTORIA                                                   11700 non-null uint8\n",
      "NEIGHBORHOOD_BATH BEACH                                                11700 non-null uint8\n",
      "NEIGHBORHOOD_BAY RIDGE                                                 11700 non-null uint8\n",
      "NEIGHBORHOOD_BAYCHESTER                                                11700 non-null uint8\n",
      "NEIGHBORHOOD_BAYSIDE                                                   11700 non-null uint8\n",
      "NEIGHBORHOOD_BEDFORD STUYVESANT                                        11700 non-null uint8\n",
      "NEIGHBORHOOD_BEECHHURST                                                11700 non-null uint8\n",
      "NEIGHBORHOOD_BELLE HARBOR                                              11700 non-null uint8\n",
      "NEIGHBORHOOD_BELMONT                                                   11700 non-null uint8\n",
      "NEIGHBORHOOD_BENSONHURST                                               11700 non-null uint8\n",
      "NEIGHBORHOOD_BERGEN BEACH                                              11700 non-null uint8\n",
      "NEIGHBORHOOD_BOERUM HILL                                               11700 non-null uint8\n",
      "NEIGHBORHOOD_BOROUGH PARK                                              11700 non-null uint8\n",
      "NEIGHBORHOOD_BRIARWOOD                                                 11700 non-null uint8\n",
      "NEIGHBORHOOD_BRIGHTON BEACH                                            11700 non-null uint8\n",
      "NEIGHBORHOOD_BRONXDALE                                                 11700 non-null uint8\n",
      "NEIGHBORHOOD_BROOKLYN HEIGHTS                                          11700 non-null uint8\n",
      "NEIGHBORHOOD_BULLS HEAD                                                11700 non-null uint8\n",
      "NEIGHBORHOOD_BUSH TERMINAL                                             11700 non-null uint8\n",
      "NEIGHBORHOOD_BUSHWICK                                                  11700 non-null uint8\n",
      "NEIGHBORHOOD_CANARSIE                                                  11700 non-null uint8\n",
      "NEIGHBORHOOD_CARROLL GARDENS                                           11700 non-null uint8\n",
      "NEIGHBORHOOD_CASTLETON CORNERS                                         11700 non-null uint8\n",
      "NEIGHBORHOOD_CHELSEA                                                   11700 non-null uint8\n",
      "NEIGHBORHOOD_CHINATOWN                                                 11700 non-null uint8\n",
      "NEIGHBORHOOD_CITY ISLAND                                               11700 non-null uint8\n",
      "NEIGHBORHOOD_CIVIC CENTER                                              11700 non-null uint8\n",
      "NEIGHBORHOOD_CLINTON                                                   11700 non-null uint8\n",
      "NEIGHBORHOOD_CLINTON HILL                                              11700 non-null uint8\n",
      "NEIGHBORHOOD_CLOVE LAKES                                               11700 non-null uint8\n",
      "NEIGHBORHOOD_COBBLE HILL                                               11700 non-null uint8\n",
      "NEIGHBORHOOD_COBBLE HILL-WEST                                          11700 non-null uint8\n",
      "NEIGHBORHOOD_COLLEGE POINT                                             11700 non-null uint8\n",
      "NEIGHBORHOOD_CONCORD                                                   11700 non-null uint8\n",
      "NEIGHBORHOOD_CONCORD-FOX HILLS                                         11700 non-null uint8\n",
      "NEIGHBORHOOD_CONEY ISLAND                                              11700 non-null uint8\n",
      "NEIGHBORHOOD_CORONA                                                    11700 non-null uint8\n",
      "NEIGHBORHOOD_COUNTRY CLUB                                              11700 non-null uint8\n",
      "NEIGHBORHOOD_CROWN HEIGHTS                                             11700 non-null uint8\n",
      "NEIGHBORHOOD_DONGAN HILLS                                              11700 non-null uint8\n",
      "NEIGHBORHOOD_DOUGLASTON                                                11700 non-null uint8\n",
      "NEIGHBORHOOD_DOWNTOWN-FULTON FERRY                                     11700 non-null uint8\n",
      "NEIGHBORHOOD_DOWNTOWN-FULTON MALL                                      11700 non-null uint8\n",
      "NEIGHBORHOOD_DOWNTOWN-METROTECH                                        11700 non-null uint8\n",
      "NEIGHBORHOOD_DYKER HEIGHTS                                             11700 non-null uint8\n",
      "NEIGHBORHOOD_EAST ELMHURST                                             11700 non-null uint8\n",
      "NEIGHBORHOOD_EAST NEW YORK                                             11700 non-null uint8\n",
      "NEIGHBORHOOD_EAST TREMONT                                              11700 non-null uint8\n",
      "NEIGHBORHOOD_EAST VILLAGE                                              11700 non-null uint8\n",
      "NEIGHBORHOOD_ELMHURST                                                  11700 non-null uint8\n",
      "NEIGHBORHOOD_ELTINGVILLE                                               11700 non-null uint8\n",
      "NEIGHBORHOOD_FAR ROCKAWAY                                              11700 non-null uint8\n",
      "NEIGHBORHOOD_FASHION                                                   11700 non-null uint8\n",
      "NEIGHBORHOOD_FINANCIAL                                                 11700 non-null uint8\n",
      "NEIGHBORHOOD_FLATBUSH-CENTRAL                                          11700 non-null uint8\n",
      "NEIGHBORHOOD_FLATBUSH-EAST                                             11700 non-null uint8\n",
      "NEIGHBORHOOD_FLATBUSH-LEFFERTS GARDEN                                  11700 non-null uint8\n",
      "NEIGHBORHOOD_FLATBUSH-NORTH                                            11700 non-null uint8\n",
      "NEIGHBORHOOD_FLATIRON                                                  11700 non-null uint8\n",
      "NEIGHBORHOOD_FLUSHING-NORTH                                            11700 non-null uint8\n",
      "NEIGHBORHOOD_FLUSHING-SOUTH                                            11700 non-null uint8\n",
      "NEIGHBORHOOD_FOREST HILLS                                              11700 non-null uint8\n",
      "NEIGHBORHOOD_FORT GREENE                                               11700 non-null uint8\n",
      "NEIGHBORHOOD_GLENDALE                                                  11700 non-null uint8\n",
      "NEIGHBORHOOD_GOWANUS                                                   11700 non-null uint8\n",
      "NEIGHBORHOOD_GRAMERCY                                                  11700 non-null uint8\n",
      "NEIGHBORHOOD_GRANT CITY                                                11700 non-null uint8\n",
      "NEIGHBORHOOD_GRASMERE                                                  11700 non-null uint8\n",
      "NEIGHBORHOOD_GRAVESEND                                                 11700 non-null uint8\n",
      "NEIGHBORHOOD_GREAT KILLS                                               11700 non-null uint8\n",
      "NEIGHBORHOOD_GREAT KILLS-BAY TERRACE                                   11700 non-null uint8\n",
      "NEIGHBORHOOD_GREENPOINT                                                11700 non-null uint8\n",
      "NEIGHBORHOOD_GREENWICH VILLAGE-CENTRAL                                 11700 non-null uint8\n",
      "NEIGHBORHOOD_GREENWICH VILLAGE-WEST                                    11700 non-null uint8\n",
      "NEIGHBORHOOD_GRYMES HILL                                               11700 non-null uint8\n",
      "NEIGHBORHOOD_HAMMELS                                                   11700 non-null uint8\n",
      "NEIGHBORHOOD_HARLEM-CENTRAL                                            11700 non-null uint8\n",
      "NEIGHBORHOOD_HARLEM-EAST                                               11700 non-null uint8\n",
      "NEIGHBORHOOD_HARLEM-UPPER                                              11700 non-null uint8\n",
      "NEIGHBORHOOD_HARLEM-WEST                                               11700 non-null uint8\n",
      "NEIGHBORHOOD_HILLCREST                                                 11700 non-null uint8\n",
      "NEIGHBORHOOD_HOWARD BEACH                                              11700 non-null uint8\n",
      "NEIGHBORHOOD_INWOOD                                                    11700 non-null uint8\n",
      "NEIGHBORHOOD_JACKSON HEIGHTS                                           11700 non-null uint8\n",
      "NEIGHBORHOOD_JAMAICA                                                   11700 non-null uint8\n",
      "NEIGHBORHOOD_JAMAICA ESTATES                                           11700 non-null uint8\n",
      "NEIGHBORHOOD_JAVITS CENTER                                             11700 non-null uint8\n",
      "NEIGHBORHOOD_KENSINGTON                                                11700 non-null uint8\n",
      "NEIGHBORHOOD_KEW GARDENS                                               11700 non-null uint8\n",
      "NEIGHBORHOOD_KINGSBRIDGE/JEROME PARK                                   11700 non-null uint8\n",
      "NEIGHBORHOOD_KIPS BAY                                                  11700 non-null uint8\n",
      "NEIGHBORHOOD_LITTLE ITALY                                              11700 non-null uint8\n",
      "NEIGHBORHOOD_LITTLE NECK                                               11700 non-null uint8\n",
      "NEIGHBORHOOD_LONG ISLAND CITY                                          11700 non-null uint8\n",
      "NEIGHBORHOOD_LOWER EAST SIDE                                           11700 non-null uint8\n",
      "NEIGHBORHOOD_MADISON                                                   11700 non-null uint8\n",
      "NEIGHBORHOOD_MANHATTAN BEACH                                           11700 non-null uint8\n",
      "NEIGHBORHOOD_MANHATTAN VALLEY                                          11700 non-null uint8\n",
      "NEIGHBORHOOD_MARINE PARK                                               11700 non-null uint8\n",
      "NEIGHBORHOOD_MARINERS HARBOR                                           11700 non-null uint8\n",
      "NEIGHBORHOOD_MASPETH                                                   11700 non-null uint8\n",
      "NEIGHBORHOOD_MIDDLE VILLAGE                                            11700 non-null uint8\n",
      "NEIGHBORHOOD_MIDLAND BEACH                                             11700 non-null uint8\n",
      "NEIGHBORHOOD_MIDTOWN CBD                                               11700 non-null uint8\n",
      "NEIGHBORHOOD_MIDTOWN EAST                                              11700 non-null uint8\n",
      "NEIGHBORHOOD_MIDTOWN WEST                                              11700 non-null uint8\n",
      "NEIGHBORHOOD_MIDWOOD                                                   11700 non-null uint8\n",
      "NEIGHBORHOOD_MORRISANIA/LONGWOOD                                       11700 non-null uint8\n",
      "NEIGHBORHOOD_MOTT HAVEN/PORT MORRIS                                    11700 non-null uint8\n",
      "NEIGHBORHOOD_MURRAY HILL                                               11700 non-null uint8\n",
      "NEIGHBORHOOD_NAVY YARD                                                 11700 non-null uint8\n",
      "NEIGHBORHOOD_NEW BRIGHTON-ST. GEORGE                                   11700 non-null uint8\n",
      "NEIGHBORHOOD_NEW DORP                                                  11700 non-null uint8\n",
      "NEIGHBORHOOD_NEW DORP-HEIGHTS                                          11700 non-null uint8\n",
      "NEIGHBORHOOD_NEW SPRINGVILLE                                           11700 non-null uint8\n",
      "NEIGHBORHOOD_OAKLAND GARDENS                                           11700 non-null uint8\n",
      "NEIGHBORHOOD_OCEAN HILL                                                11700 non-null uint8\n",
      "NEIGHBORHOOD_OCEAN PARKWAY-NORTH                                       11700 non-null uint8\n",
      "NEIGHBORHOOD_OCEAN PARKWAY-SOUTH                                       11700 non-null uint8\n",
      "NEIGHBORHOOD_OZONE PARK                                                11700 non-null uint8\n",
      "NEIGHBORHOOD_PARK SLOPE                                                11700 non-null uint8\n",
      "NEIGHBORHOOD_PARK SLOPE SOUTH                                          11700 non-null uint8\n",
      "NEIGHBORHOOD_PARKCHESTER                                               11700 non-null uint8\n",
      "NEIGHBORHOOD_PELHAM PARKWAY SOUTH                                      11700 non-null uint8\n",
      "NEIGHBORHOOD_PORT IVORY                                                11700 non-null uint8\n",
      "NEIGHBORHOOD_PORT RICHMOND                                             11700 non-null uint8\n",
      "NEIGHBORHOOD_PROSPECT HEIGHTS                                          11700 non-null uint8\n",
      "NEIGHBORHOOD_RED HOOK                                                  11700 non-null uint8\n",
      "NEIGHBORHOOD_REGO PARK                                                 11700 non-null uint8\n",
      "NEIGHBORHOOD_RIDGEWOOD                                                 11700 non-null uint8\n",
      "NEIGHBORHOOD_RIVERDALE                                                 11700 non-null uint8\n",
      "NEIGHBORHOOD_ROCKAWAY PARK                                             11700 non-null uint8\n",
      "NEIGHBORHOOD_ROOSEVELT ISLAND                                          11700 non-null uint8\n",
      "NEIGHBORHOOD_ROSEBANK                                                  11700 non-null uint8\n",
      "NEIGHBORHOOD_ROSEDALE                                                  11700 non-null uint8\n",
      "NEIGHBORHOOD_ROSSVILLE                                                 11700 non-null uint8\n",
      "NEIGHBORHOOD_SCHUYLERVILLE/PELHAM BAY                                  11700 non-null uint8\n",
      "NEIGHBORHOOD_SEAGATE                                                   11700 non-null uint8\n",
      "NEIGHBORHOOD_SHEEPSHEAD BAY                                            11700 non-null uint8\n",
      "NEIGHBORHOOD_SILVER LAKE                                               11700 non-null uint8\n",
      "NEIGHBORHOOD_SOHO                                                      11700 non-null uint8\n",
      "NEIGHBORHOOD_SOUNDVIEW                                                 11700 non-null uint8\n",
      "NEIGHBORHOOD_SOUTH BEACH                                               11700 non-null uint8\n",
      "NEIGHBORHOOD_SOUTH JAMAICA                                             11700 non-null uint8\n",
      "NEIGHBORHOOD_SOUTH OZONE PARK                                          11700 non-null uint8\n",
      "NEIGHBORHOOD_SOUTHBRIDGE                                               11700 non-null uint8\n",
      "NEIGHBORHOOD_SPRINGFIELD GARDENS                                       11700 non-null uint8\n",
      "NEIGHBORHOOD_SUNNYSIDE                                                 11700 non-null uint8\n",
      "NEIGHBORHOOD_SUNSET PARK                                               11700 non-null uint8\n",
      "NEIGHBORHOOD_THROGS NECK                                               11700 non-null uint8\n",
      "NEIGHBORHOOD_TOMPKINSVILLE                                             11700 non-null uint8\n",
      "NEIGHBORHOOD_TOTTENVILLE                                               11700 non-null uint8\n",
      "NEIGHBORHOOD_TRAVIS                                                    11700 non-null uint8\n",
      "NEIGHBORHOOD_TRIBECA                                                   11700 non-null uint8\n",
      "NEIGHBORHOOD_UPPER EAST SIDE (59-79)                                   11700 non-null uint8\n",
      "NEIGHBORHOOD_UPPER EAST SIDE (79-96)                                   11700 non-null uint8\n",
      "NEIGHBORHOOD_UPPER EAST SIDE (96-110)                                  11700 non-null uint8\n",
      "NEIGHBORHOOD_UPPER WEST SIDE (59-79)                                   11700 non-null uint8\n",
      "NEIGHBORHOOD_UPPER WEST SIDE (79-96)                                   11700 non-null uint8\n",
      "NEIGHBORHOOD_UPPER WEST SIDE (96-116)                                  11700 non-null uint8\n",
      "NEIGHBORHOOD_WASHINGTON HEIGHTS LOWER                                  11700 non-null uint8\n",
      "NEIGHBORHOOD_WASHINGTON HEIGHTS UPPER                                  11700 non-null uint8\n",
      "NEIGHBORHOOD_WEST NEW BRIGHTON                                         11700 non-null uint8\n",
      "NEIGHBORHOOD_WESTERLEIGH                                               11700 non-null uint8\n",
      "NEIGHBORHOOD_WHITESTONE                                                11700 non-null uint8\n",
      "NEIGHBORHOOD_WILLIAMSBRIDGE                                            11700 non-null uint8\n",
      "NEIGHBORHOOD_WILLIAMSBURG-CENTRAL                                      11700 non-null uint8\n",
      "NEIGHBORHOOD_WILLIAMSBURG-EAST                                         11700 non-null uint8\n",
      "NEIGHBORHOOD_WILLIAMSBURG-NORTH                                        11700 non-null uint8\n",
      "NEIGHBORHOOD_WILLIAMSBURG-SOUTH                                        11700 non-null uint8\n",
      "NEIGHBORHOOD_WILLOWBROOK                                               11700 non-null uint8\n",
      "NEIGHBORHOOD_WINDSOR TERRACE                                           11700 non-null uint8\n",
      "NEIGHBORHOOD_WOODHAVEN                                                 11700 non-null uint8\n",
      "NEIGHBORHOOD_WOODSIDE                                                  11700 non-null uint8\n",
      "NEIGHBORHOOD_WYCKOFF HEIGHTS                                           11700 non-null uint8\n",
      "dtypes: uint8(189)\n",
      "memory usage: 2.2 MB\n"
     ]
    }
   ],
   "source": [
    "# Convert categorical variables into dummy/indicator variables (i.e. one-hot encoding).\n",
    "one_hot_encoded = pd.get_dummies(data[one_hot_features])\n",
    "one_hot_encoded.info(verbose=True, memory_usage=True, null_counts=True)"
   ]
  },
  {
   "cell_type": "code",
   "execution_count": 626,
   "metadata": {
    "_uuid": "17320ca853afa8b0c57a2097b3845b1c620dac2e"
   },
   "outputs": [],
   "source": [
    "# Replacing categorical columns with dummies\n",
    "fdf = data.drop(one_hot_features,axis=1)\n",
    "fdf = pd.concat([fdf, one_hot_encoded] ,axis=1)"
   ]
  },
  {
   "cell_type": "code",
   "execution_count": 627,
   "metadata": {
    "_uuid": "87efa9c35c9627de3cc094cca354448f106bcbe0"
   },
   "outputs": [
    {
     "name": "stdout",
     "output_type": "stream",
     "text": [
      "<class 'pandas.core.frame.DataFrame'>\n",
      "Int64Index: 11700 entries, 76 to 84388\n",
      "Columns: 191 entries, YEAR BUILT to NEIGHBORHOOD_WYCKOFF HEIGHTS\n",
      "dtypes: float64(2), uint8(189)\n",
      "memory usage: 2.4 MB\n"
     ]
    }
   ],
   "source": [
    "fdf.info()"
   ]
  },
  {
   "cell_type": "code",
   "execution_count": 628,
   "metadata": {
    "_uuid": "1b6e83f998336c1fdac320624abb805367b28804"
   },
   "outputs": [
    {
     "data": {
      "text/plain": [
       "((11700, 190), (11700,))"
      ]
     },
     "execution_count": 628,
     "metadata": {},
     "output_type": "execute_result"
    }
   ],
   "source": [
    "Y_fdf = fdf['SALE PRICE']\n",
    "X_fdf = fdf.drop('SALE PRICE', axis=1)\n",
    "\n",
    "X_fdf.shape , Y_fdf.shape"
   ]
  },
  {
   "cell_type": "code",
   "execution_count": 629,
   "metadata": {
    "_uuid": "6a94594673a88df506ae12a66bc5bf415cf82444"
   },
   "outputs": [],
   "source": [
    "X_train ,X_test, Y_train , Y_test = train_test_split(X_fdf , Y_fdf , test_size = 0.3 , random_state =34)"
   ]
  },
  {
   "cell_type": "code",
   "execution_count": 630,
   "metadata": {
    "_uuid": "2fe239f89c667026ca90619bd0118de78a79d499"
   },
   "outputs": [
    {
     "data": {
      "text/plain": [
       "((8190, 190), (8190,))"
      ]
     },
     "execution_count": 630,
     "metadata": {},
     "output_type": "execute_result"
    }
   ],
   "source": [
    "# Training set\n",
    "X_train.shape , Y_train.shape"
   ]
  },
  {
   "cell_type": "code",
   "execution_count": 631,
   "metadata": {
    "_uuid": "35e3a9bbce05061c71732f3fec2c5f7d816a2781"
   },
   "outputs": [
    {
     "data": {
      "text/plain": [
       "((3510, 190), (3510,))"
      ]
     },
     "execution_count": 631,
     "metadata": {},
     "output_type": "execute_result"
    }
   ],
   "source": [
    "#Testing set\n",
    "X_test.shape , Y_test.shape"
   ]
  },
  {
   "cell_type": "code",
   "execution_count": 632,
   "metadata": {
    "_uuid": "d17d3bf101c3e38a62ba53473cba9855ccdabbb9"
   },
   "outputs": [],
   "source": [
    "# RMSE\n",
    "def rmse(y_test,y_pred):\n",
    "      return np.sqrt(mean_squared_error(y_test,y_pred))"
   ]
  },
  {
   "cell_type": "code",
   "execution_count": 633,
   "metadata": {
    "_uuid": "8e83644b36371655e5c55c020082a17b5a489c2b"
   },
   "outputs": [
    {
     "name": "stdout",
     "output_type": "stream",
     "text": [
      "R-squared:  -3.1350217041156956e+26\n",
      "RMSE:  17482542322660.059\n"
     ]
    }
   ],
   "source": [
    "linreg = LinearRegression(normalize=True)\n",
    "linreg.fit(X_train, Y_train)\n",
    "Y_pred_lin = linreg.predict(X_test)\n",
    "\n",
    "\n",
    "# caculate MSE, MAE, MAPE, and Accuracy\n",
    "errors = abs(Y_pred_lin - Y_test)\n",
    "mae = round(np.mean(errors), 2)\n",
    "mape = round(np.mean(100 * (errors / Y_test)), 2)\n",
    "accuracy = 100 - mape\n",
    "print('R-squared: ', round(r2_score(Y_test, Y_pred_lin), 2))\n",
    "print('RMSE: ', rmse(Y_test,Y_pred_lin))"
   ]
  },
  {
   "cell_type": "code",
   "execution_count": 634,
   "metadata": {
    "_uuid": "69859b8554943003324d2e4c96835223ef514f8b"
   },
   "outputs": [
    {
     "name": "stdout",
     "output_type": "stream",
     "text": [
      "R-squared:  0.62\n",
      "RMSE:  0.6114170200412089\n"
     ]
    }
   ],
   "source": [
    "alpha=0.00099\n",
    "lasso_regr=Lasso(alpha=alpha,max_iter=50000)\n",
    "lasso_regr.fit(X_train, Y_train)\n",
    "Y_pred_lasso=lasso_regr.predict(X_test)\n",
    "\n",
    "errors = abs(Y_pred_lasso - Y_test)\n",
    "mae = round(np.mean(errors), 2)\n",
    "mape = round(np.mean(100 * (errors / Y_test)), 2)\n",
    "accuracy = 100 - mape\n",
    "print('R-squared: ', round(r2_score(Y_test, Y_pred_lasso), 2))\n",
    "print('RMSE: ', rmse(Y_test,Y_pred_lasso))\n"
   ]
  },
  {
   "cell_type": "code",
   "execution_count": 635,
   "metadata": {
    "_uuid": "ad86b87dced3d5c43e85f7a514fc0f152d347480",
    "scrolled": true
   },
   "outputs": [
    {
     "name": "stdout",
     "output_type": "stream",
     "text": [
      "R-squared:  0.72\n",
      "RMSE:  0.5197535948883552\n"
     ]
    }
   ],
   "source": [
    "rf_regr = RandomForestRegressor()\n",
    "rf_regr.fit(X_train, Y_train)\n",
    "Y_pred_rf = rf_regr.predict(X_test)\n",
    "\n",
    "\n",
    "errors = abs(Y_pred_rf - Y_test)\n",
    "mae = round(np.mean(errors), 2)\n",
    "mape = round(np.mean(100 * (errors / Y_test)), 2)\n",
    "accuracy = 100 - mape\n",
    "print('R-squared: ', round(r2_score(Y_test, Y_pred_rf), 2))\n",
    "print('RMSE: ', rmse(Y_test,Y_pred_rf))"
   ]
  },
  {
   "cell_type": "markdown",
   "metadata": {
    "_uuid": "ecb312c868a8113485a2582f11c6c57e503cb32b"
   },
   "source": [
    "**We can see that Random Forest Regressor has highest R-squared and least RSME score"
   ]
  },
  {
   "cell_type": "code",
   "execution_count": 636,
   "metadata": {
    "_uuid": "6dd5e85188b97fe3b3761813ee0730c1204f995c"
   },
   "outputs": [
    {
     "data": {
      "text/html": [
       "<div>\n",
       "<style scoped>\n",
       "    .dataframe tbody tr th:only-of-type {\n",
       "        vertical-align: middle;\n",
       "    }\n",
       "\n",
       "    .dataframe tbody tr th {\n",
       "        vertical-align: top;\n",
       "    }\n",
       "\n",
       "    .dataframe thead th {\n",
       "        text-align: right;\n",
       "    }\n",
       "</style>\n",
       "<table border=\"1\" class=\"dataframe\">\n",
       "  <thead>\n",
       "    <tr style=\"text-align: right;\">\n",
       "      <th></th>\n",
       "      <th>YEAR BUILT</th>\n",
       "      <th>BOROUGH_1</th>\n",
       "      <th>BOROUGH_2</th>\n",
       "      <th>BOROUGH_3</th>\n",
       "      <th>BOROUGH_4</th>\n",
       "      <th>BOROUGH_5</th>\n",
       "      <th>BUILDING CLASS CATEGORY_04 TAX CLASS 1 CONDOS</th>\n",
       "      <th>BUILDING CLASS CATEGORY_12 CONDOS - WALKUP APARTMENTS</th>\n",
       "      <th>BUILDING CLASS CATEGORY_13 CONDOS - ELEVATOR APARTMENTS</th>\n",
       "      <th>BUILDING CLASS CATEGORY_15 CONDOS - 2-10 UNIT RESIDENTIAL</th>\n",
       "      <th>...</th>\n",
       "      <th>NEIGHBORHOOD_WILLIAMSBRIDGE</th>\n",
       "      <th>NEIGHBORHOOD_WILLIAMSBURG-CENTRAL</th>\n",
       "      <th>NEIGHBORHOOD_WILLIAMSBURG-EAST</th>\n",
       "      <th>NEIGHBORHOOD_WILLIAMSBURG-NORTH</th>\n",
       "      <th>NEIGHBORHOOD_WILLIAMSBURG-SOUTH</th>\n",
       "      <th>NEIGHBORHOOD_WILLOWBROOK</th>\n",
       "      <th>NEIGHBORHOOD_WINDSOR TERRACE</th>\n",
       "      <th>NEIGHBORHOOD_WOODHAVEN</th>\n",
       "      <th>NEIGHBORHOOD_WOODSIDE</th>\n",
       "      <th>NEIGHBORHOOD_WYCKOFF HEIGHTS</th>\n",
       "    </tr>\n",
       "  </thead>\n",
       "  <tbody>\n",
       "    <tr>\n",
       "      <td>4473</td>\n",
       "      <td>-0.592816</td>\n",
       "      <td>1</td>\n",
       "      <td>0</td>\n",
       "      <td>0</td>\n",
       "      <td>0</td>\n",
       "      <td>0</td>\n",
       "      <td>0</td>\n",
       "      <td>1</td>\n",
       "      <td>0</td>\n",
       "      <td>0</td>\n",
       "      <td>...</td>\n",
       "      <td>0</td>\n",
       "      <td>0</td>\n",
       "      <td>0</td>\n",
       "      <td>0</td>\n",
       "      <td>0</td>\n",
       "      <td>0</td>\n",
       "      <td>0</td>\n",
       "      <td>0</td>\n",
       "      <td>0</td>\n",
       "      <td>0</td>\n",
       "    </tr>\n",
       "    <tr>\n",
       "      <td>9401</td>\n",
       "      <td>0.385430</td>\n",
       "      <td>1</td>\n",
       "      <td>0</td>\n",
       "      <td>0</td>\n",
       "      <td>0</td>\n",
       "      <td>0</td>\n",
       "      <td>0</td>\n",
       "      <td>0</td>\n",
       "      <td>1</td>\n",
       "      <td>0</td>\n",
       "      <td>...</td>\n",
       "      <td>0</td>\n",
       "      <td>0</td>\n",
       "      <td>0</td>\n",
       "      <td>0</td>\n",
       "      <td>0</td>\n",
       "      <td>0</td>\n",
       "      <td>0</td>\n",
       "      <td>0</td>\n",
       "      <td>0</td>\n",
       "      <td>0</td>\n",
       "    </tr>\n",
       "    <tr>\n",
       "      <td>5269</td>\n",
       "      <td>0.769299</td>\n",
       "      <td>1</td>\n",
       "      <td>0</td>\n",
       "      <td>0</td>\n",
       "      <td>0</td>\n",
       "      <td>0</td>\n",
       "      <td>0</td>\n",
       "      <td>0</td>\n",
       "      <td>1</td>\n",
       "      <td>0</td>\n",
       "      <td>...</td>\n",
       "      <td>0</td>\n",
       "      <td>0</td>\n",
       "      <td>0</td>\n",
       "      <td>0</td>\n",
       "      <td>0</td>\n",
       "      <td>0</td>\n",
       "      <td>0</td>\n",
       "      <td>0</td>\n",
       "      <td>0</td>\n",
       "      <td>0</td>\n",
       "    </tr>\n",
       "    <tr>\n",
       "      <td>5931</td>\n",
       "      <td>0.695002</td>\n",
       "      <td>1</td>\n",
       "      <td>0</td>\n",
       "      <td>0</td>\n",
       "      <td>0</td>\n",
       "      <td>0</td>\n",
       "      <td>0</td>\n",
       "      <td>0</td>\n",
       "      <td>0</td>\n",
       "      <td>1</td>\n",
       "      <td>...</td>\n",
       "      <td>0</td>\n",
       "      <td>0</td>\n",
       "      <td>0</td>\n",
       "      <td>0</td>\n",
       "      <td>0</td>\n",
       "      <td>0</td>\n",
       "      <td>0</td>\n",
       "      <td>0</td>\n",
       "      <td>0</td>\n",
       "      <td>0</td>\n",
       "    </tr>\n",
       "    <tr>\n",
       "      <td>33441</td>\n",
       "      <td>-0.221330</td>\n",
       "      <td>0</td>\n",
       "      <td>0</td>\n",
       "      <td>1</td>\n",
       "      <td>0</td>\n",
       "      <td>0</td>\n",
       "      <td>0</td>\n",
       "      <td>0</td>\n",
       "      <td>0</td>\n",
       "      <td>1</td>\n",
       "      <td>...</td>\n",
       "      <td>0</td>\n",
       "      <td>0</td>\n",
       "      <td>0</td>\n",
       "      <td>0</td>\n",
       "      <td>0</td>\n",
       "      <td>0</td>\n",
       "      <td>0</td>\n",
       "      <td>0</td>\n",
       "      <td>0</td>\n",
       "      <td>0</td>\n",
       "    </tr>\n",
       "    <tr>\n",
       "      <td>...</td>\n",
       "      <td>...</td>\n",
       "      <td>...</td>\n",
       "      <td>...</td>\n",
       "      <td>...</td>\n",
       "      <td>...</td>\n",
       "      <td>...</td>\n",
       "      <td>...</td>\n",
       "      <td>...</td>\n",
       "      <td>...</td>\n",
       "      <td>...</td>\n",
       "      <td>...</td>\n",
       "      <td>...</td>\n",
       "      <td>...</td>\n",
       "      <td>...</td>\n",
       "      <td>...</td>\n",
       "      <td>...</td>\n",
       "      <td>...</td>\n",
       "      <td>...</td>\n",
       "      <td>...</td>\n",
       "      <td>...</td>\n",
       "      <td>...</td>\n",
       "    </tr>\n",
       "    <tr>\n",
       "      <td>33365</td>\n",
       "      <td>-0.196565</td>\n",
       "      <td>0</td>\n",
       "      <td>0</td>\n",
       "      <td>1</td>\n",
       "      <td>0</td>\n",
       "      <td>0</td>\n",
       "      <td>0</td>\n",
       "      <td>0</td>\n",
       "      <td>1</td>\n",
       "      <td>0</td>\n",
       "      <td>...</td>\n",
       "      <td>0</td>\n",
       "      <td>0</td>\n",
       "      <td>0</td>\n",
       "      <td>0</td>\n",
       "      <td>0</td>\n",
       "      <td>0</td>\n",
       "      <td>0</td>\n",
       "      <td>0</td>\n",
       "      <td>0</td>\n",
       "      <td>0</td>\n",
       "    </tr>\n",
       "    <tr>\n",
       "      <td>1293</td>\n",
       "      <td>0.769299</td>\n",
       "      <td>1</td>\n",
       "      <td>0</td>\n",
       "      <td>0</td>\n",
       "      <td>0</td>\n",
       "      <td>0</td>\n",
       "      <td>0</td>\n",
       "      <td>0</td>\n",
       "      <td>1</td>\n",
       "      <td>0</td>\n",
       "      <td>...</td>\n",
       "      <td>0</td>\n",
       "      <td>0</td>\n",
       "      <td>0</td>\n",
       "      <td>0</td>\n",
       "      <td>0</td>\n",
       "      <td>0</td>\n",
       "      <td>0</td>\n",
       "      <td>0</td>\n",
       "      <td>0</td>\n",
       "      <td>0</td>\n",
       "    </tr>\n",
       "    <tr>\n",
       "      <td>66444</td>\n",
       "      <td>0.818830</td>\n",
       "      <td>0</td>\n",
       "      <td>0</td>\n",
       "      <td>0</td>\n",
       "      <td>1</td>\n",
       "      <td>0</td>\n",
       "      <td>0</td>\n",
       "      <td>0</td>\n",
       "      <td>1</td>\n",
       "      <td>0</td>\n",
       "      <td>...</td>\n",
       "      <td>0</td>\n",
       "      <td>0</td>\n",
       "      <td>0</td>\n",
       "      <td>0</td>\n",
       "      <td>0</td>\n",
       "      <td>0</td>\n",
       "      <td>0</td>\n",
       "      <td>0</td>\n",
       "      <td>0</td>\n",
       "      <td>0</td>\n",
       "    </tr>\n",
       "    <tr>\n",
       "      <td>9142</td>\n",
       "      <td>-0.270862</td>\n",
       "      <td>1</td>\n",
       "      <td>0</td>\n",
       "      <td>0</td>\n",
       "      <td>0</td>\n",
       "      <td>0</td>\n",
       "      <td>0</td>\n",
       "      <td>0</td>\n",
       "      <td>1</td>\n",
       "      <td>0</td>\n",
       "      <td>...</td>\n",
       "      <td>0</td>\n",
       "      <td>0</td>\n",
       "      <td>0</td>\n",
       "      <td>0</td>\n",
       "      <td>0</td>\n",
       "      <td>0</td>\n",
       "      <td>0</td>\n",
       "      <td>0</td>\n",
       "      <td>0</td>\n",
       "      <td>0</td>\n",
       "    </tr>\n",
       "    <tr>\n",
       "      <td>2194</td>\n",
       "      <td>0.818830</td>\n",
       "      <td>1</td>\n",
       "      <td>0</td>\n",
       "      <td>0</td>\n",
       "      <td>0</td>\n",
       "      <td>0</td>\n",
       "      <td>0</td>\n",
       "      <td>0</td>\n",
       "      <td>1</td>\n",
       "      <td>0</td>\n",
       "      <td>...</td>\n",
       "      <td>0</td>\n",
       "      <td>0</td>\n",
       "      <td>0</td>\n",
       "      <td>0</td>\n",
       "      <td>0</td>\n",
       "      <td>0</td>\n",
       "      <td>0</td>\n",
       "      <td>0</td>\n",
       "      <td>0</td>\n",
       "      <td>0</td>\n",
       "    </tr>\n",
       "  </tbody>\n",
       "</table>\n",
       "<p>3510 rows × 190 columns</p>\n",
       "</div>"
      ],
      "text/plain": [
       "       YEAR BUILT  BOROUGH_1  BOROUGH_2  BOROUGH_3  BOROUGH_4  BOROUGH_5  \\\n",
       "4473    -0.592816          1          0          0          0          0   \n",
       "9401     0.385430          1          0          0          0          0   \n",
       "5269     0.769299          1          0          0          0          0   \n",
       "5931     0.695002          1          0          0          0          0   \n",
       "33441   -0.221330          0          0          1          0          0   \n",
       "...           ...        ...        ...        ...        ...        ...   \n",
       "33365   -0.196565          0          0          1          0          0   \n",
       "1293     0.769299          1          0          0          0          0   \n",
       "66444    0.818830          0          0          0          1          0   \n",
       "9142    -0.270862          1          0          0          0          0   \n",
       "2194     0.818830          1          0          0          0          0   \n",
       "\n",
       "       BUILDING CLASS CATEGORY_04 TAX CLASS 1 CONDOS                        \\\n",
       "4473                                                   0                     \n",
       "9401                                                   0                     \n",
       "5269                                                   0                     \n",
       "5931                                                   0                     \n",
       "33441                                                  0                     \n",
       "...                                                  ...                     \n",
       "33365                                                  0                     \n",
       "1293                                                   0                     \n",
       "66444                                                  0                     \n",
       "9142                                                   0                     \n",
       "2194                                                   0                     \n",
       "\n",
       "       BUILDING CLASS CATEGORY_12 CONDOS - WALKUP APARTMENTS                \\\n",
       "4473                                                   1                     \n",
       "9401                                                   0                     \n",
       "5269                                                   0                     \n",
       "5931                                                   0                     \n",
       "33441                                                  0                     \n",
       "...                                                  ...                     \n",
       "33365                                                  0                     \n",
       "1293                                                   0                     \n",
       "66444                                                  0                     \n",
       "9142                                                   0                     \n",
       "2194                                                   0                     \n",
       "\n",
       "       BUILDING CLASS CATEGORY_13 CONDOS - ELEVATOR APARTMENTS              \\\n",
       "4473                                                   0                     \n",
       "9401                                                   1                     \n",
       "5269                                                   1                     \n",
       "5931                                                   0                     \n",
       "33441                                                  0                     \n",
       "...                                                  ...                     \n",
       "33365                                                  1                     \n",
       "1293                                                   1                     \n",
       "66444                                                  1                     \n",
       "9142                                                   1                     \n",
       "2194                                                   1                     \n",
       "\n",
       "       BUILDING CLASS CATEGORY_15 CONDOS - 2-10 UNIT RESIDENTIAL            \\\n",
       "4473                                                   0                     \n",
       "9401                                                   0                     \n",
       "5269                                                   0                     \n",
       "5931                                                   1                     \n",
       "33441                                                  1                     \n",
       "...                                                  ...                     \n",
       "33365                                                  0                     \n",
       "1293                                                   0                     \n",
       "66444                                                  0                     \n",
       "9142                                                   0                     \n",
       "2194                                                   0                     \n",
       "\n",
       "       ...  NEIGHBORHOOD_WILLIAMSBRIDGE  NEIGHBORHOOD_WILLIAMSBURG-CENTRAL  \\\n",
       "4473   ...                            0                                  0   \n",
       "9401   ...                            0                                  0   \n",
       "5269   ...                            0                                  0   \n",
       "5931   ...                            0                                  0   \n",
       "33441  ...                            0                                  0   \n",
       "...    ...                          ...                                ...   \n",
       "33365  ...                            0                                  0   \n",
       "1293   ...                            0                                  0   \n",
       "66444  ...                            0                                  0   \n",
       "9142   ...                            0                                  0   \n",
       "2194   ...                            0                                  0   \n",
       "\n",
       "       NEIGHBORHOOD_WILLIAMSBURG-EAST  NEIGHBORHOOD_WILLIAMSBURG-NORTH  \\\n",
       "4473                                0                                0   \n",
       "9401                                0                                0   \n",
       "5269                                0                                0   \n",
       "5931                                0                                0   \n",
       "33441                               0                                0   \n",
       "...                               ...                              ...   \n",
       "33365                               0                                0   \n",
       "1293                                0                                0   \n",
       "66444                               0                                0   \n",
       "9142                                0                                0   \n",
       "2194                                0                                0   \n",
       "\n",
       "       NEIGHBORHOOD_WILLIAMSBURG-SOUTH  NEIGHBORHOOD_WILLOWBROOK  \\\n",
       "4473                                 0                         0   \n",
       "9401                                 0                         0   \n",
       "5269                                 0                         0   \n",
       "5931                                 0                         0   \n",
       "33441                                0                         0   \n",
       "...                                ...                       ...   \n",
       "33365                                0                         0   \n",
       "1293                                 0                         0   \n",
       "66444                                0                         0   \n",
       "9142                                 0                         0   \n",
       "2194                                 0                         0   \n",
       "\n",
       "       NEIGHBORHOOD_WINDSOR TERRACE  NEIGHBORHOOD_WOODHAVEN  \\\n",
       "4473                              0                       0   \n",
       "9401                              0                       0   \n",
       "5269                              0                       0   \n",
       "5931                              0                       0   \n",
       "33441                             0                       0   \n",
       "...                             ...                     ...   \n",
       "33365                             0                       0   \n",
       "1293                              0                       0   \n",
       "66444                             0                       0   \n",
       "9142                              0                       0   \n",
       "2194                              0                       0   \n",
       "\n",
       "       NEIGHBORHOOD_WOODSIDE  NEIGHBORHOOD_WYCKOFF HEIGHTS  \n",
       "4473                       0                             0  \n",
       "9401                       0                             0  \n",
       "5269                       0                             0  \n",
       "5931                       0                             0  \n",
       "33441                      0                             0  \n",
       "...                      ...                           ...  \n",
       "33365                      0                             0  \n",
       "1293                       0                             0  \n",
       "66444                      0                             0  \n",
       "9142                       0                             0  \n",
       "2194                       0                             0  \n",
       "\n",
       "[3510 rows x 190 columns]"
      ]
     },
     "execution_count": 636,
     "metadata": {},
     "output_type": "execute_result"
    }
   ],
   "source": [
    "X_test"
   ]
  },
  {
   "cell_type": "code",
   "execution_count": 637,
   "metadata": {},
   "outputs": [
    {
     "data": {
      "text/plain": [
       "array([-0.15011175,  0.65363998,  0.48649975, ...,  0.28757766,\n",
       "        0.82225629,  1.41702329])"
      ]
     },
     "execution_count": 637,
     "metadata": {},
     "output_type": "execute_result"
    }
   ],
   "source": [
    "Y_pred_rf"
   ]
  }
 ],
 "metadata": {
  "kernelspec": {
   "display_name": "Python 3",
   "language": "python",
   "name": "python3"
  },
  "language_info": {
   "codemirror_mode": {
    "name": "ipython",
    "version": 3
   },
   "file_extension": ".py",
   "mimetype": "text/x-python",
   "name": "python",
   "nbconvert_exporter": "python",
   "pygments_lexer": "ipython3",
   "version": "3.7.4"
  }
 },
 "nbformat": 4,
 "nbformat_minor": 1
}
